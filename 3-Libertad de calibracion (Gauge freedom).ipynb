{
 "cells": [
  {
   "cell_type": "code",
   "execution_count": 1,
   "metadata": {
    "colab": {},
    "colab_type": "code",
    "id": "Z8FokKjC34aT"
   },
   "outputs": [],
   "source": [
    "import numpy as np\n",
    "import tensorflow as tf\n",
    "import tensornetwork\n",
    "from tensornetwork import ncon\n",
    "net = tensornetwork.TensorNetwork()\n",
    "sess = tf.InteractiveSession()"
   ]
  },
  {
   "cell_type": "markdown",
   "metadata": {
    "colab_type": "text",
    "id": "aBqLppUMiZ8X"
   },
   "source": [
    "# Redes tensoriales en forma de arbol\n",
    "\n",
    "Representados como grafos aciclicos\n",
    "\n",
    "<img src=\"https://static.wixstatic.com/media/d91e93_e3a15c2f6d0a45b5913795fe9bbf4384~mv2.png/v1/fill/w_854,h_253,al_c,q_90/Fig18.webp\" width=\"600\">\n",
    "\n",
    "*    **izquierda** Ejemplo red tensorial en forma de arbol (A se considera la raiz de la red)\n",
    "\n",
    "*    **derecha**  Ramas de la red tensorial"
   ]
  },
  {
   "cell_type": "markdown",
   "metadata": {
    "colab_type": "text",
    "id": "uHbl3ivEjqK4"
   },
   "source": [
    "# Liberta de calibracion en una Red Tensorial\n",
    "\n",
    "Es introducir arbitrariamente la identidad sobre los indices internos de una red tensorial tal que el resultado de la contraccion de la red es el mismo para las infinitas elecciones de los tensores dentro de ella.\n",
    "\n",
    "<br> **Ejemplo:**\n",
    "\n",
    "*    La figura de abajo, muestra que se puede introducir la identidad ($I = XX^{-1}$) para cualquier indice interno de la red y no cambia el resultado final de la contraccion de la red.\n",
    "\n",
    "<img src=\"https://static.wixstatic.com/media/d91e93_f554522f97944c57966dda0517d5e7cc~mv2.png/v1/fill/w_390,h_403,al_c,q_90/Fig19.webp\" width=\"250\">\n",
    "\n",
    "*   Sin embargo, al unirse una de estas matrices de la identidad con un tensor adjunto cambia su contenido (pero la geometria de la red no cambia)\n",
    "\n",
    "<img src=\"https://static.wixstatic.com/media/d91e93_3dd3012583b6444889acec613ce9643a~mv2.png/v1/fill/w_219,h_403,al_c,q_90/Fig2.webp\" width=\"150\">\n",
    "\n",
    "\n",
    "**Observacion:** \n",
    "\n",
    "-  La libertad de calibracion implica que las descomposiciones tensoriales nunca son únicas\n",
    "-  Puede simplificar muchos tipos de operaciones en redes tensoriales. \n",
    "-  La mayoría de los algoritmos requieren la fijación de la calibracion (gauge) de manera prescrita para funcionar correctamente. \n",
    "\n",
    "Ahora discutimos varias formas de fijar el grado de libertad del gauge de tal manera que se cree un centro de ortogonalidad y la utilidad de hacerlo."
   ]
  },
  {
   "cell_type": "markdown",
   "metadata": {
    "colab_type": "text",
    "id": "xdyXKrJOlftR"
   },
   "source": [
    "# Creando un centro de ortogonalidad\n",
    "\n",
    "Sea $T:\\{A,B,C,...\\}$ una red tensorial, entonces el tensor $A$ es un centro de ortogonalidad si, para cada rama unida a $A$, las ramas forman una isometria entre sus indices abiertos y los indices conectados a $A$.\n",
    "\n",
    "<img src=\"https://static.wixstatic.com/media/d91e93_1475ca0bcc444fadb2076639c6ff8087~mv2.png/v1/fill/w_283,h_240,al_c,q_90/Fig3.webp\" width=\"160\">\n",
    "\n",
    "<img src=\"https://static.wixstatic.com/media/d91e93_c9eafe1719b24fb6bfbb1db45ea9f06f~mv2.png/v1/fill/w_484,h_338,al_c,q_90/Fig4.webp\" width=\"200\">"
   ]
  },
  {
   "cell_type": "markdown",
   "metadata": {
    "colab_type": "text",
    "id": "SUsAYvbdDkUw"
   },
   "source": [
    "## Metodos para establecer centro de ortogonalidad\n",
    "\n",
    "Se describirá el metodo a partir de descomposicion QR (es mas rapido que el SVD).\n",
    "\n",
    "1.   **Pulling Through**\n",
    "<br>Si transformamos cada tensor de una rama a uno isometrico (orientado apropiadamente), entonces toda la rama se convierte en un tensor isometrico.    \n",
    "    - Se inicia orientando cada indice de la red con una flecha que apunte al tensor central $A$\n",
    "    <br>\n",
    "    <img src=\"https://static.wixstatic.com/media/d91e93_4a22ebe9360e452589ed8f19cf88ecdb~mv2.png/v1/fill/w_295,h_250,al_c,q_90/Fig5.webp\" width=\"160\">\n",
    "    - Luego, desde el tensor mas bajo de la rama, realice una descomposición QR (bajo la partición entre flechas entrantes y salientes). A continuación, remodele el tensor \"Q\" (ortogonal) y absorba la matriz \"R\" con el tensor conectado a la flecha saliente.\n",
    "    <br>\n",
    "    <img src=\"https://static.wixstatic.com/media/d91e93_2d17c09b5cdd479799f8e2621b4f07ca~mv2.png/v1/fill/w_359,h_148,al_c,q_90/Fig6.webp\" width=\"200\">\n",
    "    <br>\n",
    "    <img src=\"https://static.wixstatic.com/media/d91e93_c82ebf2c11824b159a03816bb19004be~mv2.png/v1/fill/w_339,h_160,al_c,q_90/Fig7.webp\" width=\"200\">\n",
    "    -Repita el procedimiento hasta que todos los tensores sean isometricos con respecto a las flechas entrantes y salientes.\n",
    "\n",
    "<img src=\"https://static.wixstatic.com/media/d91e93_4ff866b9c05b44ffb14a24a33d1cd2bb~mv2.png/v1/fill/w_950,h_263,al_c,q_90/Fig8.webp\" width=\"430\">"
   ]
  },
  {
   "cell_type": "code",
   "execution_count": 2,
   "metadata": {
    "colab": {
     "base_uri": "https://localhost:8080/",
     "height": 35
    },
    "colab_type": "code",
    "executionInfo": {
     "elapsed": 732,
     "status": "ok",
     "timestamp": 1565989386268,
     "user": {
      "displayName": "Daniel Alejandro Perdomo Escobar",
      "photoUrl": "https://lh5.googleusercontent.com/-CFp5ZWBO62Y/AAAAAAAAAAI/AAAAAAAAAw0/E7orvBiVe1Y/s64/photo.jpg",
      "userId": "11856131628367370905"
     },
     "user_tz": 300
    },
    "id": "DxiUAy2jJzkz",
    "outputId": "8ef2187b-bee3-4120-a216-dd7c672e7a22"
   },
   "outputs": [
    {
     "name": "stdout",
     "output_type": "stream",
     "text": [
      "dH =  6.093053616661697e-16\n"
     ]
    }
   ],
   "source": [
    "##### Creando un centro de ortogonalidad por 'pulling through' \n",
    "# definir tensores\n",
    "d = 3\n",
    "A = np.random.rand(d,d,d,d); B = np.random.rand(d,d,d) \n",
    "C = np.random.rand(d,d,d); D = np.random.rand(d,d,d) \n",
    "E = np.random.rand(d,d,d); F = np.random.rand(d,d,d) \n",
    "G = np.random.rand(d,d,d)\n",
    "# iterar descomposiciones QR\n",
    "DQ, DR = np.linalg.qr(D.reshape(d**2,d)); DQ = DQ.reshape(d,d,d)\n",
    "EQ, ER = np.linalg.qr(E.reshape(d**2,d)); EQ = EQ.reshape(d,d,d)\n",
    "Btilda = ncon([B,DR,ER],[[1,2,-3],[-1,1],[-2,2]])\n",
    "BQ, BR = np.linalg.qr(Btilda.eval().reshape(d**2,d)); BQ = BQ.reshape(d,d,d)\n",
    "FQ, FR = np.linalg.qr(F.reshape(d**2,d)); FQ = FQ.reshape(d,d,d)\n",
    "GQ, GR = np.linalg.qr(G.reshape(d**2,d)); GQ = GQ.reshape(d,d,d)\n",
    "Ctilda = ncon([C,GR],[[1,-2,-3],[-1,1]])\n",
    "CQ, CR = np.linalg.qr(Ctilda.eval().reshape(d**2,d)); CQ = CQ.reshape(d,d,d)\n",
    "Aprime = ncon([A,BR,FR,CR],[[1,-2,2,3],[-1,1],[-3,2],[-4,3]])\n",
    "# Nueva red es formada con tensores: {Aprime,BQ,CQ,DQ,EQ,FQ,GQ}.\n",
    "\n",
    "# Validar resultado\n",
    "connectlist = [[3,-5,4,5],[1,2,3],[6,-10,5],[-1,-2,1],[-3,-4,2],[-6,-7,4],[-8,-9,6]]\n",
    "H0 = ncon([A,B,C,D,E,F,G],connectlist)\n",
    "H1 = ncon([Aprime,BQ,CQ,DQ,EQ,FQ,GQ],connectlist)\n",
    "print(\"dH = \",np.linalg.norm(H0.eval()-H1.eval()) / np.linalg.norm(H0.eval()))"
   ]
  },
  {
   "cell_type": "markdown",
   "metadata": {
    "colab_type": "text",
    "id": "9Urj-dKkOcdu"
   },
   "source": [
    "\n",
    "\n",
    "2.   **Ortogonalizacion directa**\n",
    "<br> Se describirá el metodo a partir de descomposicion espectral para cada rama\n",
    "    - Calcule la matriz definida positiva de densidad $\\rho$ asociado a cada indice del centro escogido $A$.\n",
    "    <br>\n",
    "    <img src=\"https://static.wixstatic.com/media/d91e93_ff95c759c4fb4b868a401e95c569720f~mv2.png/v1/fill/w_698,h_328,al_c,q_90/Fig26.webp\" width=\"330\">\n",
    "    - Luego, calcule la raiz cuadrada principal $X$ de cada $\\rho$\n",
    "    <br>\n",
    "    <img src=\"https://static.wixstatic.com/media/d91e93_5a7d041deda24615ac2a7d367fc85668~mv2.png/v1/fill/w_200,h_135,al_c,q_90/Fig12.webp\" width=\"130\">\n",
    "    - Finalmente, hacemos un cambio de calibracion en cada indice del tensor $A$ usando el apropiado $X$ y su correspondiente inversa $X^{-1}$\n",
    "\n",
    "<img src=\"https://static.wixstatic.com/media/d91e93_fc0b2b8919454dcfba1c86bbffc7c2e9~mv2.png/v1/fill/w_943,h_268,al_c,q_90/Fig21.webp\" width=\"430\">\n"
   ]
  },
  {
   "cell_type": "code",
   "execution_count": 5,
   "metadata": {
    "colab": {
     "base_uri": "https://localhost:8080/",
     "height": 35
    },
    "colab_type": "code",
    "executionInfo": {
     "elapsed": 1134,
     "status": "ok",
     "timestamp": 1565991099930,
     "user": {
      "displayName": "Daniel Alejandro Perdomo Escobar",
      "photoUrl": "https://lh5.googleusercontent.com/-CFp5ZWBO62Y/AAAAAAAAAAI/AAAAAAAAAw0/E7orvBiVe1Y/s64/photo.jpg",
      "userId": "11856131628367370905"
     },
     "user_tz": 300
    },
    "id": "acwDFTSxUKVk",
    "outputId": "7adb4ea7-91f4-4676-a4c9-3ac0b4570906"
   },
   "outputs": [
    {
     "name": "stdout",
     "output_type": "stream",
     "text": [
      "[-28.49123308  42.2794232  342.22068242] [ 5.33771797  6.50226293 18.49920762]\n"
     ]
    }
   ],
   "source": [
    "##### Crear centro de ortogonalidad con 'ortogonalizacion directa' \n",
    "# Definir tensores\n",
    "d = 3\n",
    "A = np.random.rand(d,d,d,d); B = np.random.rand(d,d,d) \n",
    "C = np.random.rand(d,d,d); D = np.random.rand(d,d,d) \n",
    "E = np.random.rand(d,d,d); F = np.random.rand(d,d,d) \n",
    "G = np.random.rand(d,d,d)\n",
    "# Calcular matrices de densidad y sus respectivas raices cuadradas principales\n",
    "rho1 = ncon([B,D,E,B.T,D.T,E.T],[[5,6,-2],[1,2,5],[3,4,6],[7,8,-1],[1,2,7],[3,4,8]])\n",
    "rho2 = ncon([F,F.T],[[1,2,-2],[1,2,-1]])\n",
    "rho3 = ncon([C,G,C.T,G.T],[[3,5,-2],[1,2,3],[4,5,-1],[1,2,4]])\n",
    "d1, u1 = np.linalg.eigh(rho1.eval()); sq_d1 = np.sqrt(abs(d1))\n",
    "d2, u2 = np.linalg.eigh(rho2.eval()); sq_d2 = np.sqrt(abs(d2))\n",
    "d3, u3 = np.linalg.eigh(rho3.eval()); sq_d3 = np.sqrt(abs(d3))\n",
    "X1 = u1 @ np.diag(sq_d1) @ u1.T; X1inv = u1 @ np.diag(1/sq_d1) @ u1.T\n",
    "X2 = u2 @ np.diag(sq_d2) @ u2.T; X2inv = u2 @ np.diag(1/sq_d2) @ u2.T\n",
    "X3 = u3 @ np.diag(sq_d3) @ u3.T; X3inv = u3 @ np.diag(1/sq_d3) @ u3.T\n",
    "# ejecutar cambio gauge\n",
    "Aprime = ncon([A,X1,X2,X3],[[1,-2,2,3],[-1,1],[-3,2],[-4,3]])\n",
    "Bprime = ncon([B,X1inv],[[-1,-2,1],[1,-3]])\n",
    "Fprime = ncon([F,X2inv],[[-1,-2,1],[1,-3]])\n",
    "Cprime = ncon([C,X3inv],[[-1,-2,1],[1,-3]])\n",
    "# nueva red es formada por tensores: {Aprime,Bprime,Cprime,D,E,Fprime,G}\n",
    "\n",
    "# validar resultados\n",
    "connectlist = [[3,-5,4,5],[1,2,3],[6,-10,5],[-1,-2,1],[-3,-4,2],[-6,-7,4],[-8,-9,6]]\n",
    "H0 = ncon([A,B,C,D,E,F,G],connectlist)\n",
    "H1 = ncon([Aprime,Bprime,Cprime,D,E,Fprime,G],connectlist)\n",
    "print(\"dH = \",np.linalg.norm(H0.eval() - H1.eval()) / np.linalg.norm(H0.eval()))"
   ]
  },
  {
   "cell_type": "markdown",
   "metadata": {
    "colab_type": "text",
    "id": "Kd3xYEmHV5BT"
   },
   "source": [
    "**Comparación:**\n",
    "\n",
    "*   En la práctica, la 'ortogonalización directa' suele ser un cálculo más barato y más fácil de ejecutar.\n",
    "\n",
    "*   'pulling through' se utiliza si desea que cada tensor sea isometrico"
   ]
  },
  {
   "cell_type": "markdown",
   "metadata": {
    "colab_type": "text",
    "id": "A7ffRO4YWvNP"
   },
   "source": [
    "# Descomposicion tensorial dentro de redes\n",
    "\n",
    "Describiremos cómo, creando un centro de ortogonalidad, se puede descomponer optimamente un tensor dentro de una red tal que minimice el error global de toda la red.\n",
    "\n",
    "<br>\n",
    "Consideremos una red $\\{A,B,C,D,E,F,G\\}$ que evaluada da el tensor $H$, entonces bajo reemplazo de $A$ con algún nuevo tensor $A'$, llamamos el nuevo resultado $H'$\n",
    "\n",
    "<br>\n",
    "<img src=\"https://static.wixstatic.com/media/d91e93_8af50d18e9144b9e911090f3ec09c092~mv2.png/v1/fill/w_778,h_438,al_c,q_90/Fig22.webp\" width=\"400\">\n",
    "\n",
    "<b>Teorema</b>\n",
    "\n",
    "Si $A$ es un centro de ortogonalidad, la diferencia local entre los tensores $||A-A'||$ es igual a la diferencia global entre las redes $||H-H'||$\n",
    "\n",
    "<img src=\"https://static.wixstatic.com/media/d91e93_74bd110728044af49946d8a15b6acece~mv2.png/v1/fill/w_750,h_400,al_c,q_90/Fig25.webp\" width=\"400\">\n",
    "\n",
    "<b>Corolario</b> \n",
    "\n",
    "Si el tensor de centro de ortogonalidad $A$ es reemplazado por un producto de tensores $A'=A_L.A_R$, entoces la aproximacion optima de rango restringido (la que minimice $||A-A'||$) es tambien optima para minimizar la diferencia global $||H-H'||$\n",
    "\n",
    "<img src=\"https://static.wixstatic.com/media/d91e93_c619888421d142d3a3b1d6bba195aaba~mv2.png/v1/fill/w_843,h_518,al_c,q_90/Fig24.webp\" width=\"400\">\n",
    "\n",
    "<b>Observacion:</b> Esto es un resultado significativo ya que una tarea importante en los algoritmos de redes tensoriales (como el DMRG) consiste en descomponer un tensor dentro de la red de tal manera que minimice el error global. "
   ]
  },
  {
   "cell_type": "code",
   "execution_count": null,
   "metadata": {
    "colab": {},
    "colab_type": "code",
    "id": "VzPsJkdWZSD7"
   },
   "outputs": [],
   "source": []
  }
 ],
 "metadata": {
  "colab": {
   "collapsed_sections": [],
   "name": "3 Invariancia Gauge.ipynb",
   "provenance": [],
   "version": "0.3.2"
  },
  "kernelspec": {
   "display_name": "Python 3",
   "language": "python",
   "name": "python3"
  },
  "language_info": {
   "codemirror_mode": {
    "name": "ipython",
    "version": 3
   },
   "file_extension": ".py",
   "mimetype": "text/x-python",
   "name": "python",
   "nbconvert_exporter": "python",
   "pygments_lexer": "ipython3",
   "version": "3.7.3"
  }
 },
 "nbformat": 4,
 "nbformat_minor": 1
}
