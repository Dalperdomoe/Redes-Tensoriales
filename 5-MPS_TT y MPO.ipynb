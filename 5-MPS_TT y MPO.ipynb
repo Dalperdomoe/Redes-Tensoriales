{
 "cells": [
  {
   "cell_type": "code",
   "execution_count": 1,
   "metadata": {
    "colab": {},
    "colab_type": "code",
    "id": "sGjBfHpoE93Z"
   },
   "outputs": [],
   "source": [
    "import numpy as np\n",
    "import matplotlib.pyplot as plt\n",
    "from numpy import linalg as LA\n",
    "import tensorflow as tf\n",
    "import tensornetwork\n",
    "from tensornetwork import ncon\n",
    "import seaborn as sns\n",
    "net = tensornetwork.TensorNetwork()\n",
    "sess = tf.InteractiveSession()"
   ]
  },
  {
   "cell_type": "markdown",
   "metadata": {
    "colab_type": "text",
    "id": "4ssgZuHdjHbc"
   },
   "source": [
    "# Matrix Product State (MPS) o tensor train (TT)\n",
    "​\n",
    "<img src=\"http://tensornetwork.org/mps/mpstt_diagram.png\" width=\"400\">\n",
    "​\n",
    "*    Es la factorizacion de un tensor con N indices en un producto tipo cadena lineal de tensores de tres índices. \n",
    "​\n",
    "*    Es un caso especial de una red tensorial de árbol.\n",
    "​\n",
    "*    <br>\n",
    "<img src=\"https://tensornetwork.org/mps/bond_external_dim.png\" width=\"300\">\n",
    "<br>\n",
    "$d^N$ = Numero de parametros de tensor $T$ de orden $N$ y dimension local $d$ \n",
    "<br>\n",
    "$Ndm^2$ $\\ge$ Numero de parametros de representacion MPS de $T$ (seria igual si el rango interno fuera el mismo en todo el MPS)"
   ]
  },
  {
   "cell_type": "markdown",
   "metadata": {},
   "source": [
    "# Descomposicion MPS/TT-SVD\n",
    "\n",
    "<img src=\"https://drive.google.com/uc?export=view&id=1TOe1YsvrTCLGHX3M5k7xPPSwmi16bbTi\" width=\"500\">\n",
    "<br>\n",
    "<img src=\"https://drive.google.com/uc?export=view&id=1DSBfh1BoXruSJlJbdSMQ2DQKKw5zPBih\" width=\"400\">\n"
   ]
  },
  {
   "cell_type": "code",
   "execution_count": 2,
   "metadata": {
    "colab": {},
    "colab_type": "code",
    "id": "XCZv6NMEA-gp"
   },
   "outputs": [
    {
     "name": "stdout",
     "output_type": "stream",
     "text": [
      "u0:  (30, 30) s0:  (30, 30) vh0:  (30, 30, 30, 30)\n",
      "H1:  (30, 30, 30, 30)\n",
      "u1:  (30, 30, 673) s1:  (673, 673) vh1:  (673, 30, 30)\n",
      "H2:  (673, 30, 30)\n",
      "u2:  (673, 30, 30) s2:  (30, 30) vh2:  (30, 30)\n",
      "H3:  (30, 30)\n",
      "totErr =  0.05764783525841739\n"
     ]
    }
   ],
   "source": [
    "##### Descomposicion de tensor de 4 indices a MPS usando SVD truncado con ortogonalidad izquierda\n",
    "d = 30 # dimension externa\n",
    "H0 = net.add_node(np.random.rand(d,d,d,d)) \n",
    "H0 = net.add_node(H0.tensor/tf.norm(H0.tensor))\n",
    "eps = 0.1\n",
    "deltaval=eps/np.sqrt(4-1)\n",
    "\n",
    "# primera descomposicion\n",
    "u0,s,vh,trun_err = net.split_node_full_svd(H0,[H0[0]],[H0[1],H0[2],H0[3]],None,deltaval)\n",
    "H1 = net.add_node(ncon([s.tensor,vh.tensor],[[-1,1],[1,-2,-3,-4]]))\n",
    "print(\"u0: \",u0.tensor.shape,\"s0: \",s.tensor.shape,\"vh0: \",vh.tensor.shape)\n",
    "print(\"H1: \",H1.tensor.shape)\n",
    "# segunda descomposicion\n",
    "u1,s,vh,trun_err = net.split_node_full_svd(H1,[H1[0],H1[1]],[H1[2],H1[3]],None,deltaval)\n",
    "H2 = net.add_node(ncon([s.tensor,vh.tensor],[[-1,1],[1,-2,-3]]))\n",
    "print(\"u1: \",u1.tensor.shape,\"s1: \",s.tensor.shape,\"vh1: \",vh.tensor.shape)\n",
    "print(\"H2: \",H2.tensor.shape)\n",
    "# tercera descomposicion\n",
    "u2,s,vh,trun_err = net.split_node_full_svd(H2,[H2[0],H2[1]],[H2[2]],None,deltaval)\n",
    "H3 = net.add_node(ncon([s.tensor,vh.tensor],[[-1,1],[1,-2]])) \n",
    "print(\"u2: \",u2.tensor.shape,\"s2: \",s.tensor.shape,\"vh2: \",vh.tensor.shape)\n",
    "print(\"H3: \",H3.tensor.shape)\n",
    "\n",
    "#verificar\n",
    "H0recovered = net.add_node(ncon([u0.tensor,u1.tensor,u2.tensor,H3.tensor],[[-1,1],[1,-2,2],[2,-3,3],[3,-4]]))\n",
    "print(\"totErr = \",(tf.norm(H0recovered.tensor-H0.tensor)/tf.norm(H0.tensor)).eval())"
   ]
  },
  {
   "cell_type": "markdown",
   "metadata": {
    "colab_type": "text",
    "id": "44x05_cPk-3q"
   },
   "source": [
    "# Operaciones elementales con MPS/TT\n",
    "\n",
    "  \n",
    "###    Producto interno o superposicion de dos MPS/TT\n",
    "<img src=\"http://tensornetwork.org/mps/TdotW.png\" width=\"200\">\n",
    "<br>\n",
    "<img src=\"http://tensornetwork.org/mps/TW_MPSTT.png\" width=\"250\">\n",
    "<br>\n",
    "<img src=\"http://tensornetwork.org/mps/InnerMPSTT.png\" width=\"250\">\n",
    "  \n",
    "###    Compresion o redondeo\n",
    "  \n",
    "<img src=\"http://tensornetwork.org/mps/mpstt_compress.png\" width=\"400\">"
   ]
  },
  {
   "cell_type": "markdown",
   "metadata": {},
   "source": [
    "# Matrix Product Operator (MPO)\n",
    "\n",
    "Dado un conjunto de $L$ espacios de Hilbert $\\mathcal{H}_i$, $i \\in [1,L]$, de dimension $d_i$ cada uno y un operador $\\hat{H}$ que actua sobre el espacio del producto tensorial $\\mathcal{H}$ = $\\otimes \\mathcal{H}_i$, podemos escribir el operador como:\n",
    "\n",
    "<font size=\"5\"><center>$\\hat{H} = \\sum_{\\vec{\\sigma} \\vec{\\sigma}'}c^{\\vec{\\sigma}'}_{\\vec{\\sigma}}|\\vec{\\sigma}'\\rangle \\langle \\vec{\\sigma}|$</center></font>\n",
    "\n",
    "Donde $|\\vec{\\sigma}'\\rangle$ enumera las bases estados de $\\mathcal{H}$ y $\\langle \\vec{\\sigma}|$ las bases estado del espacio dual de $\\mathcal{H}$. Podemos descomponer cada vector base $|\\vec{\\sigma}'\\rangle$ como el producto tensorial de los vectores base en los espacios locales individuales como \n",
    "\n",
    "<font size=\"5\"><center>$|\\vec{\\sigma}'\\rangle = \\otimes_{i=1}^L |\\sigma'_i\\rangle = |\\sigma'\\rangle = |\\sigma'_1,...,\\sigma'_L \\rangle$</center></font>\n",
    "\n",
    "lo que lleva a \n",
    "\n",
    "<font size=\"5\"><center>$\\hat{H} = \\sum_{\\sigma'_1 \\sigma_1}...\\sum_{\\sigma'_L \\sigma_L}c^{\\sigma'_1...\\sigma'_L}_{\\sigma_1...\\sigma_L} |\\sigma'_1,...,\\sigma'_L \\rangle \\langle\\sigma_1,...,\\sigma_L|$</center></font>\n",
    "\n",
    "\n",
    "![](https://drive.google.com/uc?export=view&id=16qCO97OliTfbz8e-W2ZdZlmkSd3FHm32)\n",
    "\n",
    "\n",
    "El coeficiente $c$ ahora puede descomponerse como un conjunto de productos matriciales. Es decir, en cada sitio $i$ y para cada combinación de estados locales $\\{|\\sigma'_i,\\sigma_i\\}$, introducimos un conjunto de matrices $(W^{w_{i-1}\\sigma'_i}_{[i]w_i\\sigma_i})$ con la propiedad de que su producto matriz-matriz es igual a un elemento específico del tensor $c$:\n",
    "\n",
    "<font size=\"5\"><center>$\\sum_{\\mu,\\nu,...,\\lambda} W^{\\sigma'_1}_{\\mu \\sigma_1}W^{\\mu \\sigma'_2}_{\\nu \\sigma_2}...W^{\\lambda \\sigma'_L}_{ \\sigma_L} = c^{\\sigma'_1...\\sigma'_L}_{\\sigma_1...\\sigma_L}$</center></font>\n",
    "\n",
    "![](https://drive.google.com/uc?export=view&id=1bgbFqgrq7RdUYFwCn6LAHhaMEj77nNwG)\n",
    "\n"
   ]
  },
  {
   "cell_type": "markdown",
   "metadata": {},
   "source": [
    "## Aplicando un MPO a un estado canonico mixto\n",
    "\n",
    "¿Como actua un MPO sobre un MPS en representacion canonica mixta con respecto a un sitio $l$?\n",
    "<br>\n",
    "![](https://drive.google.com/uc?export=view&id=1JGF2t0P9GuqXW6fOnjlKRXi56jDzWeoi)\n",
    "<br>\n",
    "Acá $\\{|a\\rangle\\}$ forma una base para la representacion canonica mixta. Exprese el operador en esta base:\n",
    "<br>\n",
    "\n",
    "<font size=\"5\"><center>$\\hat{O} = |a'>O^{a'}_{a}<a|$</center></font> \n",
    "\n",
    "con elementos matriciales\n",
    "\n",
    "<font size=\"5\"><center>$O^{a'}_{a} = <a'|\\hat{O}|a>$ = $L^{\\alpha'_l}_{[l-1]\\mu_l \\alpha_l} W^{\\mu_l \\sigma'_l \\nu_l}_{[l]\\sigma_l} R^{\\beta'_l}_{[l+1]\\nu_l \\beta_l}$</center></font>\n",
    "<br>\n",
    "![](https://drive.google.com/uc?export=view&id=1YWOacMc3iokE33IpvHHe37NlYu8AlEDT)\n",
    "<br>\n",
    "\n",
    "Finalmente,\n",
    "<br>\n",
    "\n",
    "<font size=\"5\"><center>$|\\psi'> = \\hat{O}|\\psi> = |a'>A^{'a'}$ $\\hspace{2mm}$ donde  $\\hspace{2mm}$ $A^{'a'} = O^{a'}_{a}A^a$</center></font>\n",
    "<br>\n",
    "![](https://drive.google.com/uc?export=view&id=10P3mFfgmQX2psG-6dMqTnv2fcoViyY9i)\n",
    "<br>"
   ]
  },
  {
   "cell_type": "code",
   "execution_count": null,
   "metadata": {},
   "outputs": [],
   "source": []
  }
 ],
 "metadata": {
  "colab": {
   "collapsed_sections": [],
   "name": "5 MPS/TT.ipynb",
   "provenance": [],
   "version": "0.3.2"
  },
  "kernelspec": {
   "display_name": "Python 3",
   "language": "python",
   "name": "python3"
  },
  "language_info": {
   "codemirror_mode": {
    "name": "ipython",
    "version": 3
   },
   "file_extension": ".py",
   "mimetype": "text/x-python",
   "name": "python",
   "nbconvert_exporter": "python",
   "pygments_lexer": "ipython3",
   "version": "3.7.3"
  }
 },
 "nbformat": 4,
 "nbformat_minor": 1
}
