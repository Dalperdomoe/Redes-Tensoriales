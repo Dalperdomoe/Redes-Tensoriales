{
 "cells": [
  {
   "cell_type": "code",
   "execution_count": 1,
   "metadata": {
    "colab": {
     "base_uri": "https://localhost:8080/",
     "height": 74
    },
    "colab_type": "code",
    "executionInfo": {
     "elapsed": 5025,
     "status": "ok",
     "timestamp": 1567197519550,
     "user": {
      "displayName": "Daniel Alejandro Perdomo Escobar",
      "photoUrl": "https://lh3.googleusercontent.com/a-/AAuE7mBoJL8Y6qnPWtPjMx_yRCMBTwvDBoEbC1LFNKgvEg=s64",
      "userId": "11856131628367370905"
     },
     "user_tz": 300
    },
    "id": "whexNTF_Zuwq",
    "outputId": "159362d6-4811-4e5a-9d91-b48d733986b4"
   },
   "outputs": [],
   "source": [
    "import numpy as np\n",
    "import matplotlib.pyplot as plt\n",
    "import tensorflow as tf\n",
    "import tensornetwork\n",
    "from tensornetwork import ncon\n",
    "net = tensornetwork.TensorNetwork()\n",
    "sess = tf.InteractiveSession()"
   ]
  },
  {
   "cell_type": "markdown",
   "metadata": {
    "colab_type": "text",
    "id": "6oNLie9vIKpK"
   },
   "source": [
    "# Tipos de tensores especiales: Diagonal, unitario, isometrico\n",
    "\n",
    "\n",
    "\n",
    "\n",
    "\n"
   ]
  },
  {
   "cell_type": "markdown",
   "metadata": {
    "colab_type": "text",
    "id": "6YAPzbfNf-TJ"
   },
   "source": [
    "## Tensor Diagonal\n",
    "\n",
    "![texto alternativo](https://static.wixstatic.com/media/d91e93_7b0202ac5ae343c7ae2bfba6927a51f5~mv2.png/v1/fill/w_750,h_115,al_c,q_90/d91e93_7b0202ac5ae343c7ae2bfba6927a51f5~mv2.webp)\n",
    "\n",
    "*    **$I$** es tensor identidad, equivalente a delta de kronecker $\\delta_{ij}$, representado por una linea\n",
    "\n",
    "*    **$D$** matriz diagonal con elementos {$\\lambda_1,\\lambda_2,...$}, representada por un circulo solido (en contraste con matrices no diagonales que son representadas por formas más grandes o de colores)\n",
    "\n",
    "*    **$Y$** Generalizacion de tensor diagonal"
   ]
  },
  {
   "cell_type": "markdown",
   "metadata": {
    "colab_type": "text",
    "id": "caO0V3J2fyDC"
   },
   "source": [
    "## Tensor Unitario\n",
    "\n",
    "![texto alternativo](https://static.wixstatic.com/media/d91e93_8c75c8e7077c44af8b7c8ad5fae8b100~mv2.png/v1/fill/w_950,h_245,al_c,q_90/d91e93_8c75c8e7077c44af8b7c8ad5fae8b100~mv2.webp)\n",
    "\n",
    "*    Una matriz $U$ es unitaria si la contraccion $UU^† = I$\n",
    "\n",
    "*    Un tensor $U$ es unitario si existe una bipartición de los índices (aquí denotados por la línea punteada) bajo la cual el tensor podría remodelar sus indices para convertirse en una matriz unitaria.\n",
    "\n",
    "**Nota**:\n",
    "<br>\n",
    "*    A menudo dibujamos el conjugado de un tensor con orientación vertical opuesta (y aquí usamos flechas para denotar explícitamente la orientación del tensor para mayor claridad).\n",
    "\n",
    "*    La forma de un tensor puede usarse convenientemente para indicar su orientación, eliminando la necesidad de usar flechas para este propósito."
   ]
  },
  {
   "cell_type": "markdown",
   "metadata": {
    "colab_type": "text",
    "id": "nrKwBYR5WKdK"
   },
   "source": [
    "## Tensor Isometrico\n",
    "\n",
    "![texto alternativo](https://static.wixstatic.com/media/d91e93_ff1e21787d914bbba6cb9d5f4c23eb84~mv2.png/v1/fill/w_788,h_218,al_c,q_90/d91e93_ff1e21787d914bbba6cb9d5f4c23eb84~mv2.webp)\n",
    "\n",
    "Sea $W_{d1d2}$ un tensor y asumiendo $d_1> d_2$, si:\n",
    "\n",
    "*    $W^† W = I$ por medio de $d_1$\n",
    "*    $WW^†= P$ por medio de $d_2$, donde $P$ es un proyector (tensor hermitico) con valores propios de 0 y 1.\n",
    "\n",
    "Entonces W es un tensor isometrico\n",
    "\n",
    "![texto alternativo](https://static.wixstatic.com/media/d91e93_e822eb72457e494499a4a829ee414e4a~mv2.png/v1/fill/w_800,h_270,al_c,q_90/d91e93_e822eb72457e494499a4a829ee414e4a~mv2.webp)\n",
    "\n",
    "Ejemplos de tensores isométricos, que se pueden remodelar en matrices isométricas bajo de la partición indicada por las líneas punteadas, y las restricciones que satisfacen."
   ]
  },
  {
   "cell_type": "markdown",
   "metadata": {
    "colab_type": "text",
    "id": "p-QgCS6MYb8k"
   },
   "source": [
    "### Convenciones diagramaticas\n",
    "\n",
    "*    **tensor unitario** se representará como un rectángulo o trapecio, donde la dimensión más grande indica la partición de los indices bajo los cuales se puede remodelar en una matriz unitaria. \n",
    "\n",
    "*    **tensor isometrico** se representa como cuñas que 'apuntan' en la dirección de la dimensión más pequeña (es decir, que genera la identidad cuando se contrae con su transpuesta conjugada a lo largo de la base de la cuña). \n",
    "\n",
    "***Nota:*** Estas convenciones permiten indicar la partición de índices bajo los cuales un tensor se vuelve isométrico / unitario solo por su forma, eliminando la necesidad de indicar estas particiones explícitamente. Sin embargo, no todos los investigadores de la red tensorial siguen estas convenciones."
   ]
  },
  {
   "cell_type": "markdown",
   "metadata": {
    "colab_type": "text",
    "id": "y8Ot8Hzng32-"
   },
   "source": [
    "# Descomposicion tensorial\n",
    "\n",
    "Son importantes para algoritmos de redes tensoriales en donde se aproximan tensores de un rango alto como producto de tensores de rango bajo"
   ]
  },
  {
   "cell_type": "markdown",
   "metadata": {
    "colab_type": "text",
    "id": "pLIHFnuxVR-L"
   },
   "source": [
    "## SVD (Descomposición en valores singulares)\n",
    "\n",
    "Descompone una matriz o un tensor $A$ en un producto de matrices $USV^*$, $A = USV^*$\n",
    "\n",
    "<img src=\"https://static.wixstatic.com/media/d91e93_41252d23123a4b2c9304b350b4b641fc~mv2.png/v1/fill/w_943,h_258,al_c,q_90/d91e93_41252d23123a4b2c9304b350b4b641fc~mv2.webp\" width=\"600\">\n",
    "\n",
    "**Propiedades:** Asumimos que $d_1 > d_2$\n",
    "\n",
    "*    $U$ matriz isometrica $d_1\\times d_2$.  \n",
    "*    $S$ Matriz diagonal $d_2\\times d_2$ con elementos no negativos llamados valores singulares y estan arreglados en orden descendente. **Rango de Schimdt** es el numero de valores singulares diferentes de cero.\n",
    "*    $V$ matriz unitaria $d_2\\times d_2$ y $V^†$ es su transpuesta conjugada. \n",
    "\n",
    "<br>\n",
    "new dim = min($\\prod$ left edge dim, $\\prod$ rigth edge dim)\n",
    "\n",
    "\n",
    "\n"
   ]
  },
  {
   "cell_type": "code",
   "execution_count": 2,
   "metadata": {
    "colab": {
     "base_uri": "https://localhost:8080/",
     "height": 54
    },
    "colab_type": "code",
    "executionInfo": {
     "elapsed": 5005,
     "status": "ok",
     "timestamp": 1567197519556,
     "user": {
      "displayName": "Daniel Alejandro Perdomo Escobar",
      "photoUrl": "https://lh3.googleusercontent.com/a-/AAuE7mBoJL8Y6qnPWtPjMx_yRCMBTwvDBoEbC1LFNKgvEg=s64",
      "userId": "11856131628367370905"
     },
     "user_tz": 300
    },
    "id": "7VKrmbdyYl78",
    "outputId": "221dcc7a-faa4-4549-e380-09b209ab7106"
   },
   "outputs": [
    {
     "name": "stdout",
     "output_type": "stream",
     "text": [
      "1.8555394268721767e-14\n",
      "9.155063297511652e-14\n",
      "9.088670793218645e-14\n"
     ]
    }
   ],
   "source": [
    "###### SVD de un tensor con numpy\n",
    "\n",
    "d = 10; \n",
    "A = np.random.rand(d,d,d)\n",
    "\n",
    "#Remodelar tensor A hacia la matriz A\n",
    "\n",
    "Am = A.reshape(d**2,d)\n",
    "Um,Sm,Vh = np.linalg.svd(Am,full_matrices=False)\n",
    "U = Um.reshape(d,d,d); S = np.diag(Sm)\n",
    "\n",
    "# verificar resultados\n",
    "\n",
    "Af = ncon([U,S,Vh],[[-1,-2,1],[1,2],[2,-3]])\n",
    "dA = tf.norm(Af-A).eval()\n",
    "print(dA)\n",
    "\n",
    "###### SVD con la libreria tensornetwork\n",
    "\n",
    "A = net.add_node(np.random.rand(d,d,d))\n",
    "B = net.add_node(A.tensor)\n",
    "\n",
    "#split_node\n",
    "u_s, s_vh, trun_err1 = net.split_node(A, [A[0],A[1]],[A[2]])\n",
    "\n",
    "#split_node_full_svd\n",
    "u, s, vh, trun_err2 = net.split_node_full_svd(B, [B[0],B[1]],[B[2]])\n",
    "\n",
    "#verificar\n",
    "print(tf.norm(tf.matmul(u_s.tensor,s_vh.tensor)-A.tensor).eval())\n",
    "print(tf.norm(ncon([u.tensor,s.tensor,vh.tensor],[[-1,-2,1],[1,2],[2,-3]])-B.tensor).eval())"
   ]
  },
  {
   "cell_type": "markdown",
   "metadata": {
    "colab_type": "text",
    "id": "W86quXuXcV4Z"
   },
   "source": [
    "**Split_node**\n",
    "\n",
    "![texto alternativo](data:image/png;base64,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)\n",
    "\n",
    "**Split Node Full SVD**\n",
    "\n",
    "![texto alternativo](data:image/png;base64,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)\n"
   ]
  },
  {
   "cell_type": "markdown",
   "metadata": {
    "colab_type": "text",
    "id": "1GemY56_rWO1"
   },
   "source": [
    "## Descomposicion Espectral\n",
    "\n",
    "*    Es la factorización de una matriz en una forma canónica, mediante la cual la matriz se representa en términos de sus valores propios y vectores propios. Solo las matrices diagonalizables se pueden factorizar de esta manera. \n",
    "\n",
    "*    Es una descomposición particularmente útil para matrices o tensores hermiticos donde deseamos que la descomposición preserve explícitamente el carácter Hermtico. \n",
    "\n",
    "*   $H = UDU^†$\n",
    "\n",
    "<img src=\"https://static.wixstatic.com/media/d91e93_7ba4a392fded46ff894375ecc072ae3d~mv2.png/v1/fill/w_943,h_248,al_c,q_90/D19.webp\" width=\"600\">\n",
    "\n",
    "*    **izquierda** Descomposicion espectral de matriz hermitica $H$\n",
    "\n",
    "*    **derecha** Descomposicion espectral de un tensor hermitico $H$."
   ]
  },
  {
   "cell_type": "code",
   "execution_count": 3,
   "metadata": {
    "colab": {
     "base_uri": "https://localhost:8080/",
     "height": 54
    },
    "colab_type": "code",
    "executionInfo": {
     "elapsed": 5084,
     "status": "ok",
     "timestamp": 1567196293983,
     "user": {
      "displayName": "Daniel Alejandro Perdomo Escobar",
      "photoUrl": "https://lh3.googleusercontent.com/a-/AAuE7mBoJL8Y6qnPWtPjMx_yRCMBTwvDBoEbC1LFNKgvEg=s64",
      "userId": "11856131628367370905"
     },
     "user_tz": 300
    },
    "id": "L6mmrFOTufZq",
    "outputId": "6bce5bfe-5bde-48ce-cb01-11bb8911d797"
   },
   "outputs": [
    {
     "name": "stdout",
     "output_type": "stream",
     "text": [
      "8.627238717547236e-15\n",
      "2.1344741451801295e-15\n"
     ]
    }
   ],
   "source": [
    "##### Descomposicion espectral de una matriz con numpy\n",
    "d = 10; A = np.random.rand(d,d)\n",
    "H = 0.5*(A + A.T) # matriz simetrica\n",
    "D,U = np.linalg.eig(H)\n",
    "# Verifiar\n",
    "Hf = U @ np.diag(D) @ U.T\n",
    "print(np.linalg.norm(Hf-H))\n",
    "\n",
    "\n",
    "##### Descomposicion espectral de un tensor con numpy\n",
    "d = 2; A = np.random.rand(d,d,d,d)\n",
    "H = 0.5*(A + A.transpose(2,3,0,1))\n",
    "D,U = np.linalg.eig(H.reshape(d**2,d**2))\n",
    "U = U.reshape(d,d,d**2)\n",
    "# verificar\n",
    "Hf = ncon([U,np.diag(D),U],\n",
    "           [[-1,-2,1],[1,2],[-3,-4,2]])\n",
    "print(np.linalg.norm(Hf.eval()-H))"
   ]
  },
  {
   "cell_type": "markdown",
   "metadata": {
    "colab_type": "text",
    "id": "Jbi4BO_biui0"
   },
   "source": [
    "## Descomposicion QR\n",
    "\n",
    "*    Util para ortogonalizar tensores\n",
    "\n",
    "*    El costo de computo es menor que la SVD pero tiene menos informacion (no tiene rango de schmidt).\n",
    "\n",
    "*    $A = QR$, con $Q$ matriz isometrica y $R$ matriz triangular superior\n",
    "\n",
    "<img src=\"https://static.wixstatic.com/media/d91e93_1804dce96af64fb0997fb2154085cdfc~mv2.png/v1/fill/w_923,h_225,al_c,q_90/d91e93_1804dce96af64fb0997fb2154085cdfc~mv2.webp\" width=\"600\">\n",
    "\n",
    "*    **izquierda** Descomposicion QR de matriz $A$\n",
    "*    **derecha** Descomposicion QR de tensor $A$\n",
    "\n"
   ]
  },
  {
   "cell_type": "code",
   "execution_count": 4,
   "metadata": {
    "colab": {
     "base_uri": "https://localhost:8080/",
     "height": 54
    },
    "colab_type": "code",
    "executionInfo": {
     "elapsed": 5067,
     "status": "ok",
     "timestamp": 1567196293986,
     "user": {
      "displayName": "Daniel Alejandro Perdomo Escobar",
      "photoUrl": "https://lh3.googleusercontent.com/a-/AAuE7mBoJL8Y6qnPWtPjMx_yRCMBTwvDBoEbC1LFNKgvEg=s64",
      "userId": "11856131628367370905"
     },
     "user_tz": 300
    },
    "id": "JGlcO-dLj59w",
    "outputId": "d2086d59-68b0-469f-f2bf-ec48c8756632"
   },
   "outputs": [
    {
     "name": "stdout",
     "output_type": "stream",
     "text": [
      "1.5451157752940125e-15\n",
      "4.896391607656523e-15\n"
     ]
    }
   ],
   "source": [
    "##### QR de matriz\n",
    "d1 = 10; d2 = 6\n",
    "A = np.random.rand(d1,d2)\n",
    "Q,R = np.linalg.qr(A)\n",
    "# Verificar\n",
    "Af = Q @ R\n",
    "print(np.linalg.norm(Af-A))\n",
    "\n",
    "##### QR de tensor\n",
    "d = 10\n",
    "A = np.random.rand(d,d,d)\n",
    "Qm,R = np.linalg.qr(A.reshape(d**2,d))\n",
    "Q = Qm.reshape(d,d,d)\n",
    "# Verificar\n",
    "Af = ncon([Q,R],[[-1,-2,1],[1,-3]]);\n",
    "print(np.linalg.norm(Af.eval()-A))"
   ]
  },
  {
   "cell_type": "markdown",
   "metadata": {
    "colab_type": "text",
    "id": "IB2eYl0n3_O5"
   },
   "source": [
    "# Norma de Frobenius o de Hilbert-Schmidt para tensores\n",
    "\n",
    "Una norma tensorial que es particularmente útil\n",
    "\n",
    "\n",
    "<img src=\"https://static.wixstatic.com/media/d91e93_5cc7d2d9a78e42289295eb561e4fad19~mv2.png/v1/fill/w_406,h_113,al_c,q_90/d91e93_5cc7d2d9a78e42289295eb561e4fad19~mv2.webp\" width=\"300\">\n",
    "\n",
    "La generalizacion para tensores con orden $> 2$ es\n",
    "\n",
    "<img src=\"https://static.wixstatic.com/media/d91e93_4fb8eb3d3eed467a9be07c0f9bda030c~mv2.png/v1/fill/w_864,h_163,al_c,q_90/d91e93_4fb8eb3d3eed467a9be07c0f9bda030c~mv2.webp\" width=\"650\">"
   ]
  },
  {
   "cell_type": "code",
   "execution_count": 5,
   "metadata": {
    "colab": {
     "base_uri": "https://localhost:8080/",
     "height": 72
    },
    "colab_type": "code",
    "executionInfo": {
     "elapsed": 5046,
     "status": "ok",
     "timestamp": 1567196293989,
     "user": {
      "displayName": "Daniel Alejandro Perdomo Escobar",
      "photoUrl": "https://lh3.googleusercontent.com/a-/AAuE7mBoJL8Y6qnPWtPjMx_yRCMBTwvDBoEbC1LFNKgvEg=s64",
      "userId": "11856131628367370905"
     },
     "user_tz": 300
    },
    "id": "3OAyvWGY4ZwU",
    "outputId": "8e1064d6-9397-422c-d898-63da33431784"
   },
   "outputs": [
    {
     "name": "stdout",
     "output_type": "stream",
     "text": [
      "182.41840952429325\n",
      "182.41840952429246\n",
      "182.41840952429334\n"
     ]
    }
   ],
   "source": [
    "##### Ejemplo Norma de Frobenius\n",
    "d = 10; A = np.random.rand(10,10,10,10,10)\n",
    "# norma de frobenius\n",
    "cvec = [k+1 for k in range(np.ndim(A))]\n",
    "frobA0 = np.sqrt(ncon([A,np.conj(A)],[cvec,cvec]).eval())\n",
    "# forma equivalente \n",
    "frobA1 = np.sqrt(sum(A.flatten()**2))\n",
    "# otra forma equivalente de la norma\n",
    "frobA2 = np.linalg.norm(A)\n",
    "\n",
    "print(frobA0)\n",
    "print(frobA1)\n",
    "print(frobA2)"
   ]
  },
  {
   "cell_type": "markdown",
   "metadata": {
    "colab_type": "text",
    "id": "-rxxHFjPMwAF"
   },
   "source": [
    "Una propiedad útil de la norma de Frobenius es que tiene una expresión simple en términos de los valores singulares de un tensor.\n",
    "\n",
    "<img src=\"https://static.wixstatic.com/media/d91e93_1c0ff317ed0c44149bc47219886c1e88~mv2.png/v1/fill/w_968,h_268,al_c,q_90/d91e93_1c0ff317ed0c44149bc47219886c1e88~mv2.webp\" width=\"650\">\n",
    "\n",
    "<br>\n",
    "\n",
    "<img src=\"https://static.wixstatic.com/media/d91e93_ed8a2bdda31f4f1cbe4a83fde77954b4~mv2.png/v1/fill/w_236,h_113,al_c,q_90/d91e93_ed8a2bdda31f4f1cbe4a83fde77954b4~mv2.webp\" width=\"150\">\n",
    "\n"
   ]
  },
  {
   "cell_type": "markdown",
   "metadata": {
    "colab_type": "text",
    "id": "o3N-PuYkNqRh"
   },
   "source": [
    "## Error de aproximacion\n",
    "\n",
    "Supongamos que deseamos aproximar un tensor $A$ con otro tensor $B$ de igual tamaño. Es útil definir el error de aproximación $\\varepsilon$ como\n",
    "\n",
    "<img src=\"https://static.wixstatic.com/media/d91e93_5d449ef7d13845d1802956ec16e73a50~mv2.png/v1/fill/w_881,h_80,al_c,q_90/D11.webp\" width=\"650\">\n",
    "\n"
   ]
  },
  {
   "cell_type": "markdown",
   "metadata": {
    "colab_type": "text",
    "id": "sI5DjAgiOjhY"
   },
   "source": [
    "## Aproximacion tensorial, rango de schmidt y SVD\n",
    "\n",
    "*    Dado algun tensor $A$ y alguna biparticion de sus indices tal que $A$ puede expresarse como el producto tensorial $A=B. C$.\n",
    "<br>\n",
    "<b>Rango de descomposicion o rango de Schimdt (r)</b> = min(dim $B$, dim $C$)\n",
    "\n",
    "*  Una aplicación útil de SVD es encontrar la aproximación óptima del rango de schmidt. Dado un tensor $A$ que tiene un rango de descomposición $r$ con respecto a alguna partición específica de sus índices, supongamos que deseamos encontrar un tensor de tamaño equivalente B de rango de schmidt reducido, $\\chi <r$, que se aproxime mejor a $A$ (es decir, que minimice la diferencia de la norma de Frobenius $\\varepsilon$).\n",
    "<br>\n",
    "La factorización que minimiza el error de truncamiento $\\varepsilon$ se puede obtener directamente de la SVD de $A$ simplemente 'recortando' los valores singulares más pequeños y truncando las matrices $U$ y $V$. \n",
    "\n",
    "<img src=\"https://static.wixstatic.com/media/d91e93_c6bd36879e6948348c844eb1ae3923dc~mv2.png/v1/fill/w_999,h_198,al_c,q_90/D15.webp\" width=\"650\">\n",
    "\n",
    "\n"
   ]
  },
  {
   "cell_type": "code",
   "execution_count": 6,
   "metadata": {
    "colab": {
     "base_uri": "https://localhost:8080/",
     "height": 54
    },
    "colab_type": "code",
    "executionInfo": {
     "elapsed": 739,
     "status": "ok",
     "timestamp": 1567199889863,
     "user": {
      "displayName": "Daniel Alejandro Perdomo Escobar",
      "photoUrl": "https://lh3.googleusercontent.com/a-/AAuE7mBoJL8Y6qnPWtPjMx_yRCMBTwvDBoEbC1LFNKgvEg=s64",
      "userId": "11856131628367370905"
     },
     "user_tz": 300
    },
    "id": "jOB2G159btQS",
    "outputId": "4869ddb8-333a-4eac-8eb7-6448f9241f49"
   },
   "outputs": [
    {
     "name": "stdout",
     "output_type": "stream",
     "text": [
      "epsilonAB =  0.11575719498204869\n",
      "epsilonAB =  0.11575719498204873\n"
     ]
    }
   ],
   "source": [
    "##### SVD numpy\n",
    "d = 10; A = np.random.rand(d,d,d,d,d)\n",
    "Um,S,Vhm = np.linalg.svd(A.reshape(d**3,d**2),full_matrices=False)\n",
    "U = Um.reshape(d,d,d,d**2)\n",
    "Vh = Vhm.reshape(d**2,d,d)\n",
    "##### truncamineto\n",
    "chi = 90;\n",
    "Utilda = U[:,:,:,:chi]\n",
    "Stilda = np.diag(S[:chi])\n",
    "Vhtilda = Vh[:chi,:,:]\n",
    "B = ncon([Utilda,Stilda,Vhtilda],[[-1,-2,-3,1],[1,2],[2,-4,-5]])\n",
    "### comparar\n",
    "print(\"epsilonAB = \",np.linalg.norm(A-B.eval()) / np.linalg.norm(A))\n",
    "\n",
    "\n",
    "##### SVD tensornetwork\n",
    "B = net.add_node(A)\n",
    "u, s, vh, trun_err2 = net.split_node_full_svd(B, [B[0],B[1],B[2]],[B[3],B[4]],chi)\n",
    "\n",
    "## Comparar\n",
    "print(\"epsilonAB = \",(tf.norm(ncon([u.tensor,s.tensor,vh.tensor],[[-1,-2,-3,1],[1,2],[2,-4,-5]])-B.tensor)/tf.norm(B.tensor)).eval())"
   ]
  },
  {
   "cell_type": "markdown",
   "metadata": {
    "colab_type": "text",
    "id": "pAxRMB1diiWA"
   },
   "source": [
    "el error de truncamiento $\\varepsilon$ de la aproximación óptima de rango de schmidt reducido $\\chi$ es (suponiendo que el tensor inicial se ha normalizado correctamente $|| A||=1 $):\n",
    "\n",
    "<img src=\"https://static.wixstatic.com/media/d91e93_a69a9a23929341b58164d8289b8bd112~mv2.png/v1/fill/w_255,h_128,al_c,q_90/D20.webp\" width=\"150\">"
   ]
  },
  {
   "cell_type": "markdown",
   "metadata": {
    "colab_type": "text",
    "id": "rtKtY5fLjlds"
   },
   "source": [
    "## Rango de Schmidt efectivo\n",
    "\n",
    "el rango efectivo con una precision $\\Delta$, $r (\\Delta)$, es el número de valores singulares mayores o iguales a $\\Delta$. En muchos casos (particularmente si el espectro de valores singulares está decayendo bruscamente), al truncar un tensor con $r (\\Delta)$ el error es $\\varepsilon \\approx \\Delta$. "
   ]
  },
  {
   "cell_type": "code",
   "execution_count": 7,
   "metadata": {
    "colab": {
     "base_uri": "https://localhost:8080/",
     "height": 72
    },
    "colab_type": "code",
    "executionInfo": {
     "elapsed": 1735,
     "status": "ok",
     "timestamp": 1567201338438,
     "user": {
      "displayName": "Daniel Alejandro Perdomo Escobar",
      "photoUrl": "https://lh3.googleusercontent.com/a-/AAuE7mBoJL8Y6qnPWtPjMx_yRCMBTwvDBoEbC1LFNKgvEg=s64",
      "userId": "11856131628367370905"
     },
     "user_tz": 300
    },
    "id": "doDlhkrZkNkR",
    "outputId": "50e95444-8bec-4d78-fd06-4670a0b0a0d4"
   },
   "outputs": [
    {
     "name": "stdout",
     "output_type": "stream",
     "text": [
      "r_delta =  359 ; eps_err =  0.06811277361577432\n",
      "epsilonAB_numpy =  0.06811277361577436\n",
      "epsilonAB_net =  0.009851811542897753\n"
     ]
    }
   ],
   "source": [
    "##### Rango efectivo\n",
    "\n",
    "\"\"\"generamos una matriz A aleatoria y calculamos el rango efectivo con precisión \n",
    "Δ = 1e-2, que se evalúa como r (Δ = 1e-2) = 359. Luego calculamos el error de \n",
    "truncamiento de la aproximación de rango restringida, que se encuentra como \n",
    "ε ≈ 6e-2\"\"\"\n",
    "\n",
    "# generar matriz aleatoria numpy\n",
    "d = 500;\n",
    "A = np.random.rand(d,d)\n",
    "A = A / np.linalg.norm(A) #normalizamos\n",
    "\n",
    "# calcular el rango efectivo de una precision deltaval\n",
    "deltaval = 1e-2\n",
    "Um, Sm, Vhm = np.linalg.svd(A)\n",
    "r_delta = sum(Sm > deltaval)\n",
    "print(\"r_delta = \",r_delta,\"; eps_err = \",np.sqrt(sum(Sm[r_delta:]**2)))\n",
    "# verificamos si es el mismo error de aprox\n",
    "Vhtilda = Vhm[:r_delta,:]\n",
    "Stilda = np.diag(Sm[:r_delta])\n",
    "Utilda = Um[:,:r_delta]\n",
    "B = ncon([Utilda,Stilda,Vhtilda],[[-1,1],[1,2],[2,-2]])\n",
    "### error aprox\n",
    "print(\"epsilonAB_numpy = \",np.linalg.norm(A-B.eval()) / np.linalg.norm(A))\n",
    "\n",
    "\n",
    "###Ahora utilicemos tensornetwork\n",
    "B = net.add_node(A)\n",
    "u, s, vh, trun_err1 = net.split_node_full_svd(B, [B[0]],[B[1]],None,deltaval)\n",
    "### error aprox\n",
    "print(\"epsilonAB_net = \",(tf.norm(ncon([u.tensor,s.tensor,vh.tensor],[[-1,1],[1,2],[2,-2]])-B.tensor)/tf.norm(B.tensor)).eval())"
   ]
  },
  {
   "cell_type": "code",
   "execution_count": 8,
   "metadata": {
    "colab": {
     "base_uri": "https://localhost:8080/",
     "height": 281
    },
    "colab_type": "code",
    "executionInfo": {
     "elapsed": 628,
     "status": "ok",
     "timestamp": 1567192797174,
     "user": {
      "displayName": "Daniel Alejandro Perdomo Escobar",
      "photoUrl": "https://lh3.googleusercontent.com/a-/AAuE7mBoJL8Y6qnPWtPjMx_yRCMBTwvDBoEbC1LFNKgvEg=s64",
      "userId": "11856131628367370905"
     },
     "user_tz": 300
    },
    "id": "YQ7sDABTsmro",
    "outputId": "1e56a7dd-2394-4e8e-c01d-5835bf450d57"
   },
   "outputs": [
    {
     "data": {
      "image/png": "[encoded data removed]",
      "text/plain": [
       "<Figure size 432x288 with 1 Axes>"
      ]
     },
     "metadata": {
      "needs_background": "light"
     },
     "output_type": "display_data"
    }
   ],
   "source": [
    "plt.title('Valores Singulares')\n",
    "plt.ylabel('Magnitud')\n",
    "plt.plot(Sm)\n",
    "plt.show()"
   ]
  },
  {
   "cell_type": "code",
   "execution_count": null,
   "metadata": {
    "colab": {},
    "colab_type": "code",
    "id": "BjYjB3gYoIgA"
   },
   "outputs": [],
   "source": []
  }
 ],
 "metadata": {
  "colab": {
   "collapsed_sections": [],
   "name": "2. Descomposicion Tensorial.ipynb",
   "provenance": [],
   "version": "0.3.2"
  },
  "kernelspec": {
   "display_name": "Python 3",
   "language": "python",
   "name": "python3"
  },
  "language_info": {
   "codemirror_mode": {
    "name": "ipython",
    "version": 3
   },
   "file_extension": ".py",
   "mimetype": "text/x-python",
   "name": "python",
   "nbconvert_exporter": "python",
   "pygments_lexer": "ipython3",
   "version": "3.7.3"
  }
 },
 "nbformat": 4,
 "nbformat_minor": 1
}
