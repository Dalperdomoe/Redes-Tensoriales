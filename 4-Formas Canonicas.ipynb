{
 "cells": [
  {
   "cell_type": "code",
   "execution_count": 1,
   "metadata": {
    "colab": {},
    "colab_type": "code",
    "id": "EITtYbDR8WAH"
   },
   "outputs": [],
   "source": [
    "import numpy as np\n",
    "from numpy import linalg as LA\n",
    "import tensorflow as tf\n",
    "import tensornetwork\n",
    "from tensornetwork import ncon\n",
    "net = tensornetwork.TensorNetwork()\n",
    "sess = tf.InteractiveSession()"
   ]
  },
  {
   "cell_type": "markdown",
   "metadata": {
    "colab_type": "text",
    "id": "xYl6qDJuRpKk"
   },
   "source": [
    "# Centro de ortogonalidad (centrado en enlace)\n",
    "\n",
    "Fijamos un indice interno (o enlace) dentro de la red como un centro de ortogonalidad.\n",
    "\n",
    "\n",
    "1.   Introducimos una matriz de enlace $\\sigma$ situada en el enlace en cuestion que va a ser definida inicialmente como la matriz identidad (no cambia las propiedades de la red).\n",
    "2.   Luego, usamos algunos de los metodos vistos para fijar $\\sigma$ como centro de ortogonalidad.\n",
    "\n",
    "\n",
    "\n",
    "<br>\n",
    "<b>Ejemplo:</b> Uso del metodo de ortogonalizacion directa en el enlace $B$-$C$ para establecerlo como centro de ortogonalidad de la red $\\{A,B,C\\}$\n",
    "\n",
    "<img src=\"https://static.wixstatic.com/media/d91e93_1d0acbb1faea468daf2a5da7e96ab211~mv2.png/v1/fill/w_900,h_554,al_c,q_90/fig3.webp\" width=\"500\">"
   ]
  },
  {
   "cell_type": "code",
   "execution_count": 4,
   "metadata": {
    "colab": {
     "base_uri": "https://localhost:8080/",
     "height": 35
    },
    "colab_type": "code",
    "executionInfo": {
     "elapsed": 486,
     "status": "ok",
     "timestamp": 1566074690982,
     "user": {
      "displayName": "Daniel Alejandro Perdomo Escobar",
      "photoUrl": "https://lh5.googleusercontent.com/-CFp5ZWBO62Y/AAAAAAAAAAI/AAAAAAAAAw0/E7orvBiVe1Y/s64/photo.jpg",
      "userId": "11856131628367370905"
     },
     "user_tz": 300
    },
    "id": "y-XU2nwQThJ0",
    "outputId": "0e5e2779-34cc-426e-8869-1d72a538bf19"
   },
   "outputs": [
    {
     "name": "stdout",
     "output_type": "stream",
     "text": [
      "totErr =  1.197686305236307e-15\n"
     ]
    }
   ],
   "source": [
    "##### Establecer enlace B-C como centro de ortogonalidad\n",
    "d = 5 # dimension de indices\n",
    "A = np.random.rand(d,d,d)\n",
    "B = np.random.rand(d,d,d)\n",
    "C = np.random.rand(d,d,d)\n",
    "Sig = np.eye(d); # matriz inicial (identidad) del enlace\n",
    "\n",
    "# generar una transformacion de gauge de las matrices\n",
    "rho1 = ncon([A,A.T,B,B.T],[[1,2,3],[1,2,4],[3,5,-1],[4,5,-2]])\n",
    "rho2 = ncon([C,C.T],[[-1,1,2],[-2,1,2]])\n",
    "d1, u1 = LA.eigh(rho1.eval()); sq_d1 = np.sqrt(abs(d1))\n",
    "d2, u2 = LA.eigh(rho2.eval()); sq_d2 = np.sqrt(abs(d2))\n",
    "X1 = u1 @ np.diag(sq_d1) @ u1.T; X1inv = u1 @ np.diag(1/sq_d1) @ u1.T\n",
    "X2 = u2 @ np.diag(sq_d2) @ u2.T; X2inv = u2 @ np.diag(1/sq_d2) @ u2.T\n",
    "# implementar transformacion de gauge\n",
    "Bprime = ncon([B,X1inv],[[-1,-2,1],[1,-3]])\n",
    "Cprime = ncon([X2inv,C],[[-1,1],[1,-2,-3]])\n",
    "Sig_prime = X1 @ Sig @ X2\n",
    "# verificar\n",
    "H0 = ncon([A,B,C],[[-1,-2,1],[1,-3,2],[2,-4,-5]])\n",
    "H1 = ncon([A,Bprime,Sig_prime,Cprime],[[-1,-2,1],[1,-3,2],[2,3],[3,-4,-5]])\n",
    "print(\"totErr = \",LA.norm(H0.eval() - H1.eval()) / LA.norm(H0.eval()))"
   ]
  },
  {
   "cell_type": "markdown",
   "metadata": {
    "colab_type": "text",
    "id": "tofPiS2uUcIn"
   },
   "source": [
    "Ligadura adicional: \n",
    "\n",
    "*  el gauge debe ser elegido de forma que al final la matriz de enlace sea diagonal con elementos positivos en orden descendente de magnitud. \n",
    "*  Se necesita un paso final en donde se hace la descomposicion SVD de $\\sigma'$ y luego contraemos las matrices $U$ y $V^†$ con los tensores conectados con $\\sigma'$ para dejarla como matriz diagonal.\n",
    "\n",
    "<img src=\"https://static.wixstatic.com/media/d91e93_301718cb104b441c9e6528490cbc2c7e~mv2.png/v1/fill/w_825,h_413,al_c,q_90/fig4.webp\" width=\"500\">"
   ]
  },
  {
   "cell_type": "code",
   "execution_count": 5,
   "metadata": {
    "colab": {
     "base_uri": "https://localhost:8080/",
     "height": 35
    },
    "colab_type": "code",
    "executionInfo": {
     "elapsed": 525,
     "status": "ok",
     "timestamp": 1566075164049,
     "user": {
      "displayName": "Daniel Alejandro Perdomo Escobar",
      "photoUrl": "https://lh5.googleusercontent.com/-CFp5ZWBO62Y/AAAAAAAAAAI/AAAAAAAAAw0/E7orvBiVe1Y/s64/photo.jpg",
      "userId": "11856131628367370905"
     },
     "user_tz": 300
    },
    "id": "q1k36TkkWLsR",
    "outputId": "098f5b14-c1cd-474e-f1f4-cee1881f0ece"
   },
   "outputs": [
    {
     "name": "stdout",
     "output_type": "stream",
     "text": [
      "totErr =  1.2466401138274717e-15\n"
     ]
    }
   ],
   "source": [
    "##### Establecer un enlace como centro de ortogonalidad\n",
    "##### diagonalizacion de matriz de enlace\n",
    "\n",
    "# Realizar cambio gauge unitario para diagonalizar la matriz de enlace\n",
    "utemp, Sig_pp, vhtemp = LA.svd(Sig_prime,full_matrices=False)\n",
    "Bpp = ncon([Bprime,utemp],[[-1,-2,1],[1,-3]])\n",
    "Cpp = ncon([Cprime,vhtemp],[[1,-2,-3],[-1,1]])\n",
    "# verificar\n",
    "H2 = ncon([A,Bpp,np.diag(Sig_pp),Cpp],[[-1,-2,1],[1,-3,2],[2,3],[3,-4,-5]])\n",
    "print(\"totErr = \",LA.norm(H0.eval() - H2.eval()) / LA.norm(H0.eval()))"
   ]
  },
  {
   "cell_type": "markdown",
   "metadata": {
    "colab_type": "text",
    "id": "KMSE7jJ7RD5k"
   },
   "source": [
    "## Equivalencia del centro de ortogonalidad de enlace y el SVD\n",
    "\n",
    "El resultado de fijar un enlace dentro de una red como centro de ortogonalidad es equivalente a un SVD: \n",
    "\n",
    "*  La matriz de enlace resultante $\\sigma^{''}$ contiene los valores singulares \n",
    "*   $U_H$ = ($A⋅ B^{''}$) y ($V_H$)$^†$ = $C^{''}$, hasta para la posibilidad de signos positivos/negativos\n",
    "\n",
    "<img src=\"https://static.wixstatic.com/media/d91e93_994b998eb81448248c6a343c0b2b874e~mv2.png/v1/fill/w_888,h_435,al_c,q_90/fig6.webp\" width=\"500\">\n",
    "\n",
    "**Observacion:**\n",
    "\n",
    "*  Suponiendo que los valores singulares no son degenerados, se sabe que la SVD es única hasta para los signos de los vectores singulares (o fases de los vectores singulares para matrices complejas).\n",
    "\n",
    "*  Un enlace como centro de ortogonalidad puede fijar completamente la libertad de calibracion de este enlace (En general, esto es verdadero si los elementos de la matriz de enlace no son degenerados).  Esta propiedad de unicidad se deriva de la correspondencia con el SVD, que es igualmente único.\n"
   ]
  },
  {
   "cell_type": "markdown",
   "metadata": {
    "colab_type": "text",
    "id": "Xifhy_5K6Xlq"
   },
   "source": [
    "# Formas Canonicas o Normal\n",
    "\n",
    "Una red está en forma canónica, si todas las matrices de enlaces son simultáneamente centros de ortogonalidad, fijando de forma unica la calibracion en cada uno de los enlaces de la red.\n",
    "\n",
    "### Procedimiento para transformar una red a forma canónica:\n",
    "\n",
    "*    Coloque una matriz de enlace $\\sigma$, inicialmente establecida como matriz de identidad, en cada índice interno.\n",
    "\n",
    "*    Use el enfoque de ortogonalización directa para establecer independientemente cada matriz de enlace $\\sigma$ como un centro de ortogonalidad.\n",
    "\n",
    "*    Realice una descomposicion SVD a cada enlace para que sea una matriz diagonal con elementos positivos ordenados descendientemente.\n",
    "\n",
    "<img src=\"https://static.wixstatic.com/media/d91e93_89ebeadd221a42e0860ca130d32e422f~mv2.png/v1/fill/w_956,h_563,al_c,q_90/fig7.webp\" width=\"500\">\n",
    "\n",
    "### Importancia de la forma canonica\n",
    "\n",
    "Al configurar una red en forma canónica, uno puede:\n",
    "\n",
    "*    truncar de manera óptima cualquier enlace a una dimensión reducida y comprender fácilmente el error de truncamiento correspondiente.\n",
    "*    eliminar la ambigüedad de la calibracion en la descripción de la red, debido a la singularidad de la forma canónica.\n",
    "*    extraer ciertos tipos de información de la red (como los valores esperados) de manera simplificada, debido a las cancelaciones que surgen en redes que contienen tensores isométricos."
   ]
  },
  {
   "cell_type": "code",
   "execution_count": null,
   "metadata": {},
   "outputs": [],
   "source": []
  }
 ],
 "metadata": {
  "colab": {
   "collapsed_sections": [],
   "name": "4 Formas Canonicas.ipynb",
   "provenance": [],
   "version": "0.3.2"
  },
  "kernelspec": {
   "display_name": "Python 3",
   "language": "python",
   "name": "python3"
  },
  "language_info": {
   "codemirror_mode": {
    "name": "ipython",
    "version": 3
   },
   "file_extension": ".py",
   "mimetype": "text/x-python",
   "name": "python",
   "nbconvert_exporter": "python",
   "pygments_lexer": "ipython3",
   "version": "3.7.3"
  }
 },
 "nbformat": 4,
 "nbformat_minor": 1
}
