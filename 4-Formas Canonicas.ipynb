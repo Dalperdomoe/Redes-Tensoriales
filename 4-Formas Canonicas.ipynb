{
 "cells": [
  {
   "cell_type": "code",
   "execution_count": 0,
   "metadata": {
    "colab": {},
    "colab_type": "code",
    "id": "EITtYbDR8WAH"
   },
   "outputs": [],
   "source": [
    "import numpy as np\n",
    "from numpy import linalg as LA\n",
    "import tensorflow as tf\n",
    "import tensornetwork\n",
    "from tensornetwork import ncon\n",
    "net = tensornetwork.TensorNetwork()\n",
    "sess = tf.InteractiveSession()"
   ]
  },
  {
   "cell_type": "markdown",
   "metadata": {
    "colab_type": "text",
    "id": "QOLAQ6ox8cyp"
   },
   "source": [
    "# Descomposicion tensorial multi-etapas o SVD truncado\n",
    "\n",
    "¿Como podemos descomponer adecuadamente un tensor $H$ de muchos indices en una red $T$ de tensores $\\{A,B,C,...\\}$ de acuerdo a una geometria dada? Minimizando $||H-T||$ dada una dimension $\\chi$ de los indices internos de $T$\n",
    "\n",
    "<img src=\"https://static.wixstatic.com/media/d91e93_1d7d73f53f2e4183aa2165660f6f7358~mv2.png/v1/fill/w_638,h_225,al_c,q_90/fig1.webp\" width=\"400\">\n",
    "\n",
    "Debemos emplear <u>descomposicion tensorial multi-etapas</u> que es una secuencia de descomposiciones SVD. La manera correcta es que el tensor a ser descompuesto en cada etapa debe ser un centro de ortogonalidad, para asegurar que el error global de truncamiento se minimice.\n",
    "\n",
    "**Ejemplo**\n",
    "\n",
    "<img src=\"https://static.wixstatic.com/media/d91e93_01e52a5f9e3f485298f08437d570bc3c~mv2.png/v1/fill/w_950,h_591,al_c,q_90/fig2.webp\" width=\"500\">"
   ]
  },
  {
   "cell_type": "code",
   "execution_count": 0,
   "metadata": {
    "colab": {
     "base_uri": "https://localhost:8080/",
     "height": 35
    },
    "colab_type": "code",
    "executionInfo": {
     "elapsed": 724,
     "status": "ok",
     "timestamp": 1566072311472,
     "user": {
      "displayName": "Daniel Alejandro Perdomo Escobar",
      "photoUrl": "https://lh5.googleusercontent.com/-CFp5ZWBO62Y/AAAAAAAAAAI/AAAAAAAAAw0/E7orvBiVe1Y/s64/photo.jpg",
      "userId": "11856131628367370905"
     },
     "user_tz": 300
    },
    "id": "-xw12Z-4BQ0m",
    "outputId": "e03a16dd-1236-42e1-a34a-ee6924c61f17"
   },
   "outputs": [
    {
     "name": "stdout",
     "output_type": "stream",
     "text": [
      "totErr =  0.4978139421508944\n"
     ]
    }
   ],
   "source": [
    "##### Descomposicion multi-etapas\n",
    "d = 5 # dimension local\n",
    "chi = 3 # maxima dimension interna\n",
    "H0 = np.random.rand(d,d,d,d,d,d,d) \n",
    "\n",
    "# primera descomposicion\n",
    "utemp,stemp,vhtemp = LA.svd(H0.reshape(d**2,d**5),full_matrices=False)\n",
    "U0 = (utemp[:,:chi]).reshape(d,d,chi)\n",
    "H1 = (np.diag(stemp[:chi]) @ vhtemp[:chi,:]).reshape(chi,d,d,d,d,d)\n",
    "# segunda descomposicion\n",
    "utemp,stemp,vhtemp = LA.svd(H1.transpose(1,2,0,3,4,5).reshape(d**2,chi*d**3),full_matrices=False)\n",
    "U1 = (utemp[:,:chi]).reshape(d,d,chi)\n",
    "H2 = (np.diag(stemp[:chi]) @ vhtemp[:chi,:]).reshape(chi,chi,d,d,d).transpose(1,0,2,3,4)\n",
    "# tercera descomposicion\n",
    "utemp,stemp,vhtemp = LA.svd(H2.reshape(chi**2,d**3),full_matrices=False)\n",
    "U2 = (utemp[:,:chi]).reshape(chi,chi,chi)\n",
    "H3 = (np.diag(stemp[:chi]) @ vhtemp[:chi,:]).reshape(chi,d,d,d)\n",
    "# cuarta descomposicion\n",
    "utemp,stemp,vhtemp = LA.svd(H3.reshape(chi*d,d**2),full_matrices=False)\n",
    "V3 = vhtemp[:chi,:].reshape(chi,d,d).transpose(1,2,0)\n",
    "H4 = (utemp[:,:chi] @ np.diag(stemp[:chi])).reshape(chi,d,chi)\n",
    "# verificacion\n",
    "H0recovered = ncon([U0,U1,U2,V3,H4],[[-1,-2,1],[-3,-4,2],[1,2,3],[-6,-7,4],[3,-5,4]])\n",
    "print(\"totErr = \",LA.norm(H0 - H0recovered.eval()) / LA.norm(H0))"
   ]
  },
  {
   "cell_type": "markdown",
   "metadata": {
    "colab_type": "text",
    "id": "xYl6qDJuRpKk"
   },
   "source": [
    "# Centro de ortogonalidad (centrado en enlace)\n",
    "\n",
    "Fijamos un indice interno (o enlace) dentro de la red como un centro de ortogonalidad.\n",
    "\n",
    "\n",
    "1.   Introducimos una matriz de enlace $\\sigma$ situada en el enlace en cuestion que va a ser definida inicialmente como la matriz identidad (no cambia las propiedades de la red).\n",
    "2.   Luego, usamos algunos de los metodos vistos para fijar $\\sigma$ como centro de ortogonalidad.\n",
    "\n",
    "\n",
    "\n",
    "<br>\n",
    "<b>Ejemplo:</b> Uso del metodo de ortogonalizacion directa en el enlace $B$-$C$ para establecerlo como centro de ortogonalidad de la red $\\{A,B,C\\}$\n",
    "\n",
    "<img src=\"https://static.wixstatic.com/media/d91e93_1d0acbb1faea468daf2a5da7e96ab211~mv2.png/v1/fill/w_900,h_554,al_c,q_90/fig3.webp\" width=\"500\">"
   ]
  },
  {
   "cell_type": "code",
   "execution_count": 0,
   "metadata": {
    "colab": {
     "base_uri": "https://localhost:8080/",
     "height": 35
    },
    "colab_type": "code",
    "executionInfo": {
     "elapsed": 486,
     "status": "ok",
     "timestamp": 1566074690982,
     "user": {
      "displayName": "Daniel Alejandro Perdomo Escobar",
      "photoUrl": "https://lh5.googleusercontent.com/-CFp5ZWBO62Y/AAAAAAAAAAI/AAAAAAAAAw0/E7orvBiVe1Y/s64/photo.jpg",
      "userId": "11856131628367370905"
     },
     "user_tz": 300
    },
    "id": "y-XU2nwQThJ0",
    "outputId": "0e5e2779-34cc-426e-8869-1d72a538bf19"
   },
   "outputs": [
    {
     "name": "stdout",
     "output_type": "stream",
     "text": [
      "totErr =  1.2900867616322735e-15\n"
     ]
    }
   ],
   "source": [
    "##### Establecer enlace B-C como centro de ortogonalidad\n",
    "d = 5 # dimension de indices\n",
    "A = np.random.rand(d,d,d)\n",
    "B = np.random.rand(d,d,d)\n",
    "C = np.random.rand(d,d,d)\n",
    "Sig = np.eye(d); # matriz inicial (identidad) del enlace\n",
    "\n",
    "# generar un cambio gauge de las matrices\n",
    "rho1 = ncon([A,A,B,B],[[1,2,3],[1,2,4],[3,5,-1],[4,5,-2]])\n",
    "rho2 = ncon([C,C],[[-1,1,2],[-2,1,2]])\n",
    "d1, u1 = LA.eigh(rho1.eval()); sq_d1 = np.sqrt(abs(d1))\n",
    "d2, u2 = LA.eigh(rho2.eval()); sq_d2 = np.sqrt(abs(d2))\n",
    "X1 = u1 @ np.diag(sq_d1) @ u1.T; X1inv = u1 @ np.diag(1/sq_d1) @ u1.T\n",
    "X2 = u2 @ np.diag(sq_d2) @ u2.T; X2inv = u2 @ np.diag(1/sq_d2) @ u2.T\n",
    "# implementar cambio gauge\n",
    "Bprime = ncon([B,X1inv],[[-1,-2,1],[1,-3]])\n",
    "Cprime = ncon([X2inv,C],[[-1,1],[1,-2,-3]])\n",
    "Sig_prime = X1 @ Sig @ X2\n",
    "# verificar\n",
    "H0 = ncon([A,B,C],[[-1,-2,1],[1,-3,2],[2,-4,-5]])\n",
    "H1 = ncon([A,Bprime,Sig_prime,Cprime],[[-1,-2,1],[1,-3,2],[2,3],[3,-4,-5]])\n",
    "print(\"totErr = \",LA.norm(H0.eval() - H1.eval()) / LA.norm(H0.eval()))"
   ]
  },
  {
   "cell_type": "markdown",
   "metadata": {
    "colab_type": "text",
    "id": "tofPiS2uUcIn"
   },
   "source": [
    "Hay que imponer una restriccion adicional: el gauge debe ser elegido de forma que al final la matriz de enlace sea diagonal con elementos positivos en orden descendiente de magnitud. \n",
    "Se necesita un paso final en donde se hace la descomposicion SVD de $\\sigma'$ y luego contraemos las matrices $U$ y $V^†$ con los tensores que conecta $\\sigma'$ para dejarla como matriz diagonal.\n",
    "\n",
    "<img src=\"https://static.wixstatic.com/media/d91e93_301718cb104b441c9e6528490cbc2c7e~mv2.png/v1/fill/w_825,h_413,al_c,q_90/fig4.webp\" width=\"500\">"
   ]
  },
  {
   "cell_type": "code",
   "execution_count": 0,
   "metadata": {
    "colab": {
     "base_uri": "https://localhost:8080/",
     "height": 35
    },
    "colab_type": "code",
    "executionInfo": {
     "elapsed": 525,
     "status": "ok",
     "timestamp": 1566075164049,
     "user": {
      "displayName": "Daniel Alejandro Perdomo Escobar",
      "photoUrl": "https://lh5.googleusercontent.com/-CFp5ZWBO62Y/AAAAAAAAAAI/AAAAAAAAAw0/E7orvBiVe1Y/s64/photo.jpg",
      "userId": "11856131628367370905"
     },
     "user_tz": 300
    },
    "id": "q1k36TkkWLsR",
    "outputId": "098f5b14-c1cd-474e-f1f4-cee1881f0ece"
   },
   "outputs": [
    {
     "name": "stdout",
     "output_type": "stream",
     "text": [
      "totErr =  9.104059304245175e-16\n"
     ]
    }
   ],
   "source": [
    "##### Establecer un enlace como centro de ortogonalidad\n",
    "##### diagonalizacion de matriz de enlace\n",
    "\n",
    "# Realizar cambio gauge unitario para diagonalizar la matriz de enlace\n",
    "utemp, Sig_pp, vhtemp = LA.svd(Sig_prime,full_matrices=False)\n",
    "Bpp = ncon([Bprime,utemp],[[-1,-2,1],[1,-3]])\n",
    "Cpp = ncon([Cprime,vhtemp],[[1,-2,-3],[-1,1]])\n",
    "# verificar\n",
    "H2 = ncon([A,Bpp,np.diag(Sig_pp),Cpp],[[-1,-2,1],[1,-3,2],[2,3],[3,-4,-5]])\n",
    "print(\"totErr = \",LA.norm(H0.eval() - H2.eval()) / LA.norm(H0.eval()))"
   ]
  },
  {
   "cell_type": "markdown",
   "metadata": {
    "colab_type": "text",
    "id": "KMSE7jJ7RD5k"
   },
   "source": [
    "## Equivalencia del (enlace) centro de ortogonalidad y el SVD\n",
    "\n",
    "El resultado de fijar un enlace dentro de una red como centro de ortogonalidad es equivalente a un SVD: la matriz de enlace resultante $\\sigma''$ contiene los valores singulares, mientras que las redes a la izquierda / derecha del enlace son equivalentes bajo contracción a las isometrías $U / V$.\n",
    "\n",
    "<img src=\"https://static.wixstatic.com/media/d91e93_994b998eb81448248c6a343c0b2b874e~mv2.png/v1/fill/w_888,h_435,al_c,q_90/fig6.webp\" width=\"500\">\n",
    "\n",
    "\n"
   ]
  },
  {
   "cell_type": "markdown",
   "metadata": {
    "colab_type": "text",
    "id": "Xifhy_5K6Xlq"
   },
   "source": [
    "# Formas Canonicas o Normal\n",
    "\n",
    "Al establecer un enlace como centro de ortogonalidad, la restriccion de que la matriz del enlace sea diagonal puede fijar completamente la invariancia gauge de este enlace (En general, esto es verdadero si los elementos de la matriz de enlace son no degenerados).  Esta propiedad de unicidad se deriva de la correspondencia entre el centro de ortogonalidad basado en enlaces y el SVD, que es igualmente único.\n",
    "<br>Una red está en forma canónica, si todas las matrices de enlaces son simultáneamente centros de ortogonalidad, fijando de forma unica el gauge en cada uno de los enlaces de la red.\n",
    "\n",
    "### Procedimiento para transformar una red a forma canónica:\n",
    "\n",
    "*    Coloque una matriz de enlace $\\sigma$, inicialmente establecida como matriz de identidad, en cada índice interno.\n",
    "\n",
    "*    Use el enfoque de ortogonalización directa para establecer independientemente cada matriz de enlace $\\sigma$ como un centro de ortogonalidad.\n",
    "\n",
    "*    Realice una descomposicion SVD a cada enlace para que sea una matriz diagonal con elementos positivos ordenados descendientemente.\n",
    "\n",
    "<img src=\"https://static.wixstatic.com/media/d91e93_89ebeadd221a42e0860ca130d32e422f~mv2.png/v1/fill/w_956,h_563,al_c,q_90/fig7.webp\" width=\"500\">\n",
    "\n",
    "\n",
    "<br>\n",
    "\n",
    "<b>Ejemplo:</b> La red se supone que está en forma canónica. \n",
    "<br><img src=\"https://static.wixstatic.com/media/d91e93_5aa23c4a812449578d674eb841eb6c0f~mv2.png/v1/fill/w_750,h_445,al_c,q_90/fig8.webp\" width=\"400\">\n",
    "\n",
    "1.    Suponiendo que deseamos establecer algún tensor específico $E$ como el centro de ortogonalidad, primero etiquetamos cada índice con una flecha que apunta hacia el tensor $E$. \n",
    "2.    Luego absorbemos en cada tensor cualquier matriz de enlace $\\sigma$ que reside en su entrada de índices. \n",
    "3.    De las propiedades de la forma canónica se deduce que todos los tensores en la red resultante ahora son isométricos con respecto a la partición entre sus índices de tensor entrantes y salientes, similar a la red producida por el enfoque de 'Pulling Through'. Además, el tensor $E$ especificado es un centro de ortogonalidad.\n",
    "\n",
    "### Resumen: Forma canonica\n",
    "\n",
    "La forma canónica resulta de una forma particular de fijar los grados de libertad del gauge en una red tensorial, y es útil ya que organiza una red de tal manera que la información importante esté fácilmente disponible. Al configurar una red en forma canónica, uno puede:\n",
    "\n",
    "*    truncar de manera óptima cualquier enlace a una dimensión reducida, simplemente descartando los valores singulares más pequeños de la matriz de enlaces correspondiente, y comprender fácilmente el error de truncamiento correspondiente.\n",
    "*    esencialmente elimina la ambigüedad del gauge de la descripción de la red, debido a la singularidad de la forma canónica.\n",
    "*    extraer ciertos tipos de información de la red (como los valores esperados) de manera simplificada, debido a las cancelaciones que surgen en redes que contienen tensores isométricos."
   ]
  }
 ],
 "metadata": {
  "colab": {
   "collapsed_sections": [],
   "name": "4 Formas Canonicas.ipynb",
   "provenance": [],
   "version": "0.3.2"
  },
  "kernelspec": {
   "display_name": "Python 3",
   "language": "python",
   "name": "python3"
  },
  "language_info": {
   "codemirror_mode": {
    "name": "ipython",
    "version": 3
   },
   "file_extension": ".py",
   "mimetype": "text/x-python",
   "name": "python",
   "nbconvert_exporter": "python",
   "pygments_lexer": "ipython3",
   "version": "3.7.3"
  }
 },
 "nbformat": 4,
 "nbformat_minor": 1
}
