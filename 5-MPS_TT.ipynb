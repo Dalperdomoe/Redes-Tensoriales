{
 "cells": [
  {
   "cell_type": "code",
   "execution_count": 1,
   "metadata": {
    "colab": {},
    "colab_type": "code",
    "id": "sGjBfHpoE93Z"
   },
   "outputs": [],
   "source": [
    "import numpy as np\n",
    "import matplotlib.pyplot as plt\n",
    "from numpy import linalg as LA\n",
    "import tensorflow as tf\n",
    "import tensornetwork\n",
    "from tensornetwork import ncon\n",
    "import seaborn as sns\n",
    "net = tensornetwork.TensorNetwork()\n",
    "sess = tf.InteractiveSession()"
   ]
  },
  {
   "cell_type": "markdown",
   "metadata": {
    "colab_type": "text",
    "id": "4ssgZuHdjHbc"
   },
   "source": [
    "# Matrix Product State (MPS) o tensor train (TT)\n",
    "​\n",
    "<img src=\"http://tensornetwork.org/mps/mpstt_diagram.png\" width=\"400\">\n",
    "​\n",
    "*    Es la factorizacion de un tensor con N indices en un producto tipo cadena lineal de tensores de tres índices. \n",
    "​\n",
    "*    Es un caso especial de una red tensorial de árbol.\n",
    "​\n",
    "*    <br>\n",
    "<img src=\"https://tensornetwork.org/mps/bond_external_dim.png\" width=\"300\">\n",
    "<br>\n",
    "$d^N$ = Numero de parametros de tensor $T$ de orden $N$ y dimension local $d$ \n",
    "<br>\n",
    "$Ndm^2$ $\\ge$ Numero de parametros de representacion MPS de $T$ (seria igual si el rango interno fuera el mismo en todo el MPS)"
   ]
  },
  {
   "cell_type": "markdown",
   "metadata": {},
   "source": [
    "# Descomposicion MPS/TT-SVD\n",
    "\n",
    "<img src=\"https://drive.google.com/uc?export=view&id=1TOe1YsvrTCLGHX3M5k7xPPSwmi16bbTi\" width=\"500\">\n",
    "<br>\n",
    "<img src=\"https://drive.google.com/uc?export=view&id=1DSBfh1BoXruSJlJbdSMQ2DQKKw5zPBih\" width=\"400\">\n"
   ]
  },
  {
   "cell_type": "code",
   "execution_count": 2,
   "metadata": {
    "colab": {},
    "colab_type": "code",
    "id": "XCZv6NMEA-gp"
   },
   "outputs": [
    {
     "name": "stdout",
     "output_type": "stream",
     "text": [
      "u0:  (30, 30) s0:  (30, 30) vh0:  (30, 30, 30, 30)\n",
      "H1:  (30, 30, 30, 30)\n",
      "u1:  (30, 30, 673) s1:  (673, 673) vh1:  (673, 30, 30)\n",
      "H2:  (673, 30, 30)\n",
      "u2:  (673, 30, 30) s2:  (30, 30) vh2:  (30, 30)\n",
      "H3:  (30, 30)\n",
      "totErr =  0.05764783525841739\n"
     ]
    }
   ],
   "source": [
    "##### Descomposicion de tensor de 4 indices a MPS usando SVD truncado con ortogonalidad izquierda\n",
    "d = 30 # dimension externa\n",
    "H0 = net.add_node(np.random.rand(d,d,d,d)) \n",
    "H0 = net.add_node(H0.tensor/tf.norm(H0.tensor))\n",
    "eps = 0.1\n",
    "deltaval=eps/np.sqrt(4-1)\n",
    "\n",
    "# primera descomposicion\n",
    "u0,s,vh,trun_err = net.split_node_full_svd(H0,[H0[0]],[H0[1],H0[2],H0[3]],None,deltaval)\n",
    "H1 = net.add_node(ncon([s.tensor,vh.tensor],[[-1,1],[1,-2,-3,-4]]))\n",
    "print(\"u0: \",u0.tensor.shape,\"s0: \",s.tensor.shape,\"vh0: \",vh.tensor.shape)\n",
    "print(\"H1: \",H1.tensor.shape)\n",
    "# segunda descomposicion\n",
    "u1,s,vh,trun_err = net.split_node_full_svd(H1,[H1[0],H1[1]],[H1[2],H1[3]],None,deltaval)\n",
    "H2 = net.add_node(ncon([s.tensor,vh.tensor],[[-1,1],[1,-2,-3]]))\n",
    "print(\"u1: \",u1.tensor.shape,\"s1: \",s.tensor.shape,\"vh1: \",vh.tensor.shape)\n",
    "print(\"H2: \",H2.tensor.shape)\n",
    "# tercera descomposicion\n",
    "u2,s,vh,trun_err = net.split_node_full_svd(H2,[H2[0],H2[1]],[H2[2]],None,deltaval)\n",
    "H3 = net.add_node(ncon([s.tensor,vh.tensor],[[-1,1],[1,-2]])) \n",
    "print(\"u2: \",u2.tensor.shape,\"s2: \",s.tensor.shape,\"vh2: \",vh.tensor.shape)\n",
    "print(\"H3: \",H3.tensor.shape)\n",
    "\n",
    "#verificar\n",
    "H0recovered = net.add_node(ncon([u0.tensor,u1.tensor,u2.tensor,H3.tensor],[[-1,1],[1,-2,2],[2,-3,3],[3,-4]]))\n",
    "print(\"totErr = \",(tf.norm(H0recovered.tensor-H0.tensor)/tf.norm(H0.tensor)).eval())"
   ]
  },
  {
   "cell_type": "markdown",
   "metadata": {
    "colab_type": "text",
    "id": "44x05_cPk-3q"
   },
   "source": [
    "# Operaciones elementales con MPS/TT\n",
    "\n",
    "  \n",
    "###    Producto interno o superposicion de dos MPS/TT\n",
    "<img src=\"http://tensornetwork.org/mps/TdotW.png\" width=\"200\">\n",
    "<br>\n",
    "<img src=\"http://tensornetwork.org/mps/TW_MPSTT.png\" width=\"250\">\n",
    "<br>\n",
    "<img src=\"http://tensornetwork.org/mps/InnerMPSTT.png\" width=\"250\">\n",
    "  \n",
    "###    Compresion o redondeo\n",
    "  \n",
    "<img src=\"http://tensornetwork.org/mps/mpstt_compress.png\" width=\"400\">"
   ]
  },
  {
   "cell_type": "markdown",
   "metadata": {},
   "source": [
    "## Solucion de ecuaciones lineales $Ax=\\lambda x$ o $Ax=b$ por medio de DMRG\n",
    "\n",
    "### Planteamiento del problema\n",
    "\n",
    "*  Considere un operador $H$ de orden $N$, con dimensiones locales $d$\n",
    "<br>\n",
    "<img src=\"https://tensornetwork.org/mps/algorithms/dmrg/H_diagram.png\" width=\"400\">\n",
    "<br>\n",
    "*  El algoritmo DMRG busca el eigenvector dominante de $H$ en la forma MPS, donde $E_0$ ($\\le E_1\\le E_2$...) es el menor valor propio de $H$\n",
    "<br>\n",
    "<img src=\"https://tensornetwork.org/mps/algorithms/dmrg/H_eigenvector.png\" width=\"400\">\n",
    "<br>\n",
    "*  Para que el algoritmo sea eficiente $H$ debe estar en la forma MPO\n",
    "<br>\n",
    "<img src=\"https://tensornetwork.org/mps/algorithms/dmrg/H_MPO_form.png\" width=\"400\">\n",
    "\n",
    "### Pasos del algoritmo DMRG\n",
    "\n",
    "#### Paso 0: Preparacion\n",
    "\n",
    "*  Llevar al MPS inicial a una forma ortogonal (Aqui escogemos que sea ortogonal a derecha)\n",
    "<br>\n",
    "<img src=\"https://tensornetwork.org/mps/algorithms/dmrg/right_ortho_MPS.png\" width=\"400\">\n",
    "<br>\n",
    "*  Por la propiedad de ortogonalizacion a derecha, podemos interpretar los tensores MPS 3,4,... colectivamente como un cambio de base desde la base de indices locales $i_3$,$i_4$,... a la de indice de enlace $\\alpha_2$\n",
    "<br>\n",
    "<img src=\"https://tensornetwork.org/mps/algorithms/dmrg/MPS_change_of_basis.png\" width=\"400\">\n",
    "<br>\n",
    "*  Esta interpretacion motiva a la transformacion de $H$ a la base $i_1$,$i_2$,$\\alpha_2$ \n",
    "<br>\n",
    "<img src=\"https://tensornetwork.org/mps/algorithms/dmrg/projected_H.png\" width=\"400\">\n",
    "<br>\n",
    "*  Tomando $H$ como MPO, podemos calcular la transformacion eficientemente, definiendo los tensores $R_j$ por el camino\n",
    "<br>\n",
    "<img src=\"https://tensornetwork.org/mps/algorithms/dmrg/H_edge.png\" width=\"400\">\n",
    "<br>\n",
    "*  Por eficiencia, Es crucial que los tensores de borde $R_j$ se creen contrayendo cada tensor MPS o MPO uno a la vez en un cierto orden\n",
    "<br>\n",
    "<img src=\"https://tensornetwork.org/mps/algorithms/dmrg/H_edge_ordering.png\" width=\"400\">\n",
    "<br>\n",
    "*  Luego, contraemos los dos primeros tensores MPS\n",
    "<br>\n",
    "<img src=\"https://tensornetwork.org/mps/algorithms/dmrg/bond1.png\" width=\"400\">\n",
    "<br>"
   ]
  },
  {
   "cell_type": "markdown",
   "metadata": {},
   "source": [
    "# Clasificacion de imagenes MNIST"
   ]
  },
  {
   "cell_type": "code",
   "execution_count": 3,
   "metadata": {},
   "outputs": [
    {
     "name": "stderr",
     "output_type": "stream",
     "text": [
      "Using TensorFlow backend.\n"
     ]
    }
   ],
   "source": [
    "from keras.datasets import mnist\n",
    "\n",
    "(X_train, Y_train), (X_test, Y_test) = mnist.load_data()\n"
   ]
  },
  {
   "cell_type": "code",
   "execution_count": 4,
   "metadata": {},
   "outputs": [],
   "source": [
    "X_train = X_train.reshape(len(X_train), 28, 28, 1)\n",
    "X_test = X_test.reshape(len(X_test), 28, 28, 1)"
   ]
  },
  {
   "cell_type": "code",
   "execution_count": 5,
   "metadata": {},
   "outputs": [
    {
     "name": "stdout",
     "output_type": "stream",
     "text": [
      "There are 60000 training data and 10000 testing data.\n",
      "Number of occurence for each number in training data (0 stands for 10):\n",
      "[[   0 5923]\n",
      " [   1 6742]\n",
      " [   2 5958]\n",
      " [   3 6131]\n",
      " [   4 5842]\n",
      " [   5 5421]\n",
      " [   6 5918]\n",
      " [   7 6265]\n",
      " [   8 5851]\n",
      " [   9 5949]]\n"
     ]
    },
    {
     "data": {
      "text/plain": [
       "<matplotlib.axes._subplots.AxesSubplot at 0x7f73080c3860>"
      ]
     },
     "execution_count": 5,
     "metadata": {},
     "output_type": "execute_result"
    },
    {
     "data": {
      "image/png": "[encoded data removed]",
      "text/plain": [
       "<Figure size 432x288 with 1 Axes>"
      ]
     },
     "metadata": {
      "needs_background": "light"
     },
     "output_type": "display_data"
    }
   ],
   "source": [
    "# normalization\n",
    "X_train = np.array(X_train) / 255.\n",
    "Y_train = np.array(Y_train)\n",
    "X_test = np.array(X_test) / 255.\n",
    "Y_test = np.array(Y_test)\n",
    "#X_valid = np.array(X_valid) / 255.\n",
    "#Y_valid = np.array(Y_valid)\n",
    "\n",
    "print('There are', X_train.shape[0], 'training data and',  X_test.shape[0], 'testing data.')\n",
    "print('Number of occurence for each number in training data (0 stands for 10):')\n",
    "print(np.vstack((np.unique(Y_train), np.bincount(Y_train))).T)\n",
    "sns.countplot(Y_train)"
   ]
  },
  {
   "cell_type": "code",
   "execution_count": 6,
   "metadata": {},
   "outputs": [
    {
     "name": "stdout",
     "output_type": "stream",
     "text": [
      "(60000, 28, 28, 1)\n"
     ]
    }
   ],
   "source": [
    "print(np.shape(X_train))"
   ]
  },
  {
   "cell_type": "code",
   "execution_count": 7,
   "metadata": {},
   "outputs": [
    {
     "data": {
      "image/png": "[encoded data removed]",
      "text/plain": [
       "<Figure size 864x864 with 36 Axes>"
      ]
     },
     "metadata": {
      "needs_background": "light"
     },
     "output_type": "display_data"
    }
   ],
   "source": [
    "# plot first 36 images in MNIST\n",
    "fig, ax = plt.subplots(6, 6, figsize = (12, 12))\n",
    "fig.suptitle('First 36 images in MNIST')\n",
    "fig.tight_layout(pad = 0.3, rect = [0, 0, 0.9, 0.9])\n",
    "for x, y in [(i, j) for i in range(6) for j in range(6)]:\n",
    "    ax[x, y].imshow(X_train[x + y * 6].reshape((28, 28)), cmap = 'gray')\n",
    "    ax[x, y].set_title(Y_train[x + y * 6])"
   ]
  },
  {
   "cell_type": "code",
   "execution_count": 8,
   "metadata": {},
   "outputs": [
    {
     "data": {
      "text/plain": [
       "5"
      ]
     },
     "execution_count": 8,
     "metadata": {},
     "output_type": "execute_result"
    }
   ],
   "source": [
    "Y_train[0]"
   ]
  },
  {
   "cell_type": "code",
   "execution_count": 9,
   "metadata": {},
   "outputs": [],
   "source": [
    "from keras.utils import to_categorical\n",
    "\n",
    "Y_train = to_categorical(Y_train)\n",
    "Y_test = to_categorical(Y_test)"
   ]
  },
  {
   "cell_type": "code",
   "execution_count": 10,
   "metadata": {},
   "outputs": [
    {
     "name": "stdout",
     "output_type": "stream",
     "text": [
      "[0. 0. 0. 0. 0. 1. 0. 0. 0. 0.]\n"
     ]
    }
   ],
   "source": [
    "print(Y_train[0])"
   ]
  },
  {
   "cell_type": "code",
   "execution_count": null,
   "metadata": {},
   "outputs": [],
   "source": []
  }
 ],
 "metadata": {
  "colab": {
   "collapsed_sections": [],
   "name": "5 MPS/TT.ipynb",
   "provenance": [],
   "version": "0.3.2"
  },
  "kernelspec": {
   "display_name": "Python 3",
   "language": "python",
   "name": "python3"
  },
  "language_info": {
   "codemirror_mode": {
    "name": "ipython",
    "version": 3
   },
   "file_extension": ".py",
   "mimetype": "text/x-python",
   "name": "python",
   "nbconvert_exporter": "python",
   "pygments_lexer": "ipython3",
   "version": "3.7.3"
  }
 },
 "nbformat": 4,
 "nbformat_minor": 1
}
