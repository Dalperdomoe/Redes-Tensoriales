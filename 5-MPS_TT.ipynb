{
 "cells": [
  {
   "cell_type": "code",
   "execution_count": 0,
   "metadata": {
    "colab": {},
    "colab_type": "code",
    "id": "sGjBfHpoE93Z"
   },
   "outputs": [],
   "source": [
    "import numpy as np\n",
    "import matplotlib.pyplot as plt\n",
    "from numpy import linalg as LA\n",
    "import tensorflow as tf\n",
    "import tensornetwork\n",
    "from tensornetwork import ncon\n",
    "net = tensornetwork.TensorNetwork()\n",
    "sess = tf.InteractiveSession()"
   ]
  },
  {
   "cell_type": "markdown",
   "metadata": {
    "colab_type": "text",
    "id": "4ssgZuHdjHbc"
   },
   "source": [
    "# Matrix Product State (MPS) o tensor train (TT)\n",
    "\n",
    "*    Es la factorizacion de un tensor con N indices en un producto tipo cadena lineal de tensores de tres índices. \n",
    "\n",
    "*    Es un caso especial de una red tensorial de árbol.\n",
    "\n",
    "<img src=\"http://tensornetwork.org/mps/mpstt_diagram.png\" width=\"400\">\n",
    "\n",
    "*    Si MPS/TT es una buena aproximacion de un tensor, entonces podemos reducir el problema de trabajar con un numero de parametros que crece exponencialmente a uno que crece linealmente.   "
   ]
  },
  {
   "cell_type": "code",
   "execution_count": 0,
   "metadata": {
    "colab": {},
    "colab_type": "code",
    "id": "XCZv6NMEA-gp"
   },
   "outputs": [],
   "source": [
    "##### Descomposicion de tensor de 4 indices a MPS usando SVD truncado con ortogonalidad izquierda\n",
    "d = 50 # dimension externa\n",
    "H0 = net.add_node(np.random.rand(d,d,d,d)) # 6 indices externos\n",
    "H0 = net.add_node(H0.tensor/tf.norm(H0.tensor))\n",
    "deltaval = 0.1\n",
    "\n",
    "# primera descomposicion\n",
    "u0,s,vh,trun_err = net.split_node_full_svd(H0,[H0[0]],[H0[1],H0[2],H0[3]],None,deltaval)\n",
    "H1 = net.add_node(ncon([s.tensor,vh.tensor],[[-1,1],[1,-2,-3,-4]]))\n",
    "\n",
    "# segunda descomposicion\n",
    "u1,s,vh,trun_err = net.split_node_full_svd(H1,[H1[0],H1[1]],[H1[2],H1[3]],None,deltaval)\n",
    "H2 = net.add_node(ncon([s.tensor,vh.tensor],[[-1,1],[1,-2,-3]]))\n",
    "\n",
    "# tercera descomposicion\n",
    "u2,s,vh,trun_err = net.split_node_full_svd(H2,[H2[0],H2[1]],[H2[2]],None,deltaval)\n",
    "H3 = net.add_node(ncon([s.tensor,vh.tensor],[[-1,1],[1,-2]])) "
   ]
  },
  {
   "cell_type": "code",
   "execution_count": 15,
   "metadata": {
    "colab": {
     "base_uri": "https://localhost:8080/",
     "height": 34
    },
    "colab_type": "code",
    "executionInfo": {
     "elapsed": 20362,
     "status": "ok",
     "timestamp": 1567456744591,
     "user": {
      "displayName": "Daniel Alejandro Perdomo Escobar",
      "photoUrl": "https://lh3.googleusercontent.com/a-/AAuE7mBoJL8Y6qnPWtPjMx_yRCMBTwvDBoEbC1LFNKgvEg=s64",
      "userId": "11856131628367370905"
     },
     "user_tz": 300
    },
    "id": "xOvncAMGsN6F",
    "outputId": "ce703a5d-249f-4021-8069-34bb609832cd"
   },
   "outputs": [
    {
     "data": {
      "text/plain": [
       "TensorShape([Dimension(1549), Dimension(50), Dimension(48)])"
      ]
     },
     "execution_count": 15,
     "metadata": {
      "tags": []
     },
     "output_type": "execute_result"
    }
   ],
   "source": [
    "u2.tensor.shape"
   ]
  },
  {
   "cell_type": "code",
   "execution_count": 19,
   "metadata": {
    "colab": {
     "base_uri": "https://localhost:8080/",
     "height": 34
    },
    "colab_type": "code",
    "executionInfo": {
     "elapsed": 20779,
     "status": "ok",
     "timestamp": 1567457076041,
     "user": {
      "displayName": "Daniel Alejandro Perdomo Escobar",
      "photoUrl": "https://lh3.googleusercontent.com/a-/AAuE7mBoJL8Y6qnPWtPjMx_yRCMBTwvDBoEbC1LFNKgvEg=s64",
      "userId": "11856131628367370905"
     },
     "user_tz": 300
    },
    "id": "LIfTyr5ftZh2",
    "outputId": "91570747-a4e3-4877-ec31-5606fc5183ff"
   },
   "outputs": [
    {
     "name": "stdout",
     "output_type": "stream",
     "text": [
      "totErr =  0.16879892082524553\n"
     ]
    }
   ],
   "source": [
    "H0recovered = net.add_node(ncon([u0.tensor,u1.tensor,u2.tensor,H3.tensor],[[-1,1],[1,-2,2],[2,-3,3],[3,-4]]))\n",
    "print(\"totErr = \",(tf.norm(H0recovered.tensor-H0.tensor)/tf.norm(H0.tensor)).eval())"
   ]
  },
  {
   "cell_type": "markdown",
   "metadata": {
    "colab_type": "text",
    "id": "44x05_cPk-3q"
   },
   "source": [
    "# Operaciones elementales con MPS/TT\n",
    "\n",
    "  \n",
    "###    Producto interno o superposicion de dos MPS/TT\n",
    "<img src=\"http://tensornetwork.org/mps/TdotW.png\" width=\"200\">\n",
    "<br>\n",
    "<img src=\"http://tensornetwork.org/mps/TW_MPSTT.png\" width=\"250\">\n",
    "<br>\n",
    "<img src=\"http://tensornetwork.org/mps/InnerMPSTT.png\" width=\"250\">\n",
    "  \n",
    "###    Compresion o redondeo\n",
    "  \n",
    "<img src=\"http://tensornetwork.org/mps/mpstt_compress.png\" width=\"300\">"
   ]
  },
  {
   "cell_type": "code",
   "execution_count": 0,
   "metadata": {
    "colab": {},
    "colab_type": "code",
    "id": "CXj3gA0LwDjH"
   },
   "outputs": [],
   "source": []
  }
 ],
 "metadata": {
  "colab": {
   "collapsed_sections": [],
   "name": "5 MPS/TT.ipynb",
   "provenance": [],
   "version": "0.3.2"
  },
  "kernelspec": {
   "display_name": "Python 3",
   "language": "python",
   "name": "python3"
  },
  "language_info": {
   "codemirror_mode": {
    "name": "ipython",
    "version": 3
   },
   "file_extension": ".py",
   "mimetype": "text/x-python",
   "name": "python",
   "nbconvert_exporter": "python",
   "pygments_lexer": "ipython3",
   "version": "3.7.3"
  }
 },
 "nbformat": 4,
 "nbformat_minor": 1
}
