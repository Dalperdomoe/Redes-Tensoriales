{
 "cells": [
  {
   "cell_type": "markdown",
   "metadata": {
    "colab_type": "text",
    "id": "_yr5cbLSuSao"
   },
   "source": [
    "# Terminologia tensorial\n",
    "\n",
    "\n",
    "\n",
    "*   ***Orden:*** Numero de indices que tiene.\n",
    "*   ***Rango (o rango de descomposicion):*** Para tensores con orden $>$ 2, es la dimension minima especificada de la factorizacion de un tensor con respecto a alguna particion (agrupacion) de sus indices. \n",
    "*   ***Dimension:*** Tamaño del indice de un tensor, es decir, numero maximo de valores que un indice puede tener\n",
    "\n",
    "<img src=\"https://static.wixstatic.com/media/d91e93_636996276a41489a8ffb2b534ae62836~mv2.png/v1/fill/w_273,h_153,al_c,q_90/d91e93_636996276a41489a8ffb2b534ae62836~mv2.webp\" width=\"250\">\n"
   ]
  },
  {
   "cell_type": "markdown",
   "metadata": {
    "colab_type": "text",
    "id": "B60Sqg-2ma5_"
   },
   "source": [
    "Para nuestros propositos, los tensores seran simplemente arreglos multidimensionales de numeros reales o complejos\n"
   ]
  },
  {
   "cell_type": "code",
   "execution_count": 1,
   "metadata": {
    "colab": {},
    "colab_type": "code",
    "id": "YmNkMkcqV-6a"
   },
   "outputs": [],
   "source": [
    "#Inicializar algunos tensores con numpy y tensornetwork\n",
    "\n",
    "import numpy as np\n",
    "import tensornetwork\n",
    "import tensorflow as tf\n",
    "net = tensornetwork.TensorNetwork() # Implementacion de una red tensorial\n",
    "\n",
    "#Crear un tensor con entradas generadas aleatoriamente, de orden 3, dimensiones: 2,3,4\n",
    "\n",
    "A = np.random.rand(2,3,4)\n",
    "a = net.add_node(A)"
   ]
  },
  {
   "cell_type": "code",
   "execution_count": 2,
   "metadata": {
    "colab": {
     "base_uri": "https://localhost:8080/",
     "height": 146
    },
    "colab_type": "code",
    "executionInfo": {
     "elapsed": 13037,
     "status": "ok",
     "timestamp": 1567008952659,
     "user": {
      "displayName": "Daniel Alejandro Perdomo Escobar",
      "photoUrl": "https://lh3.googleusercontent.com/a-/AAuE7mBoJL8Y6qnPWtPjMx_yRCMBTwvDBoEbC1LFNKgvEg=s64",
      "userId": "11856131628367370905"
     },
     "user_tz": 300
    },
    "id": "Njz9h2n6pqRO",
    "outputId": "1a2bdb26-9934-4d78-df24-b83c36c82c4a"
   },
   "outputs": [
    {
     "name": "stdout",
     "output_type": "stream",
     "text": [
      "[[[0.6703595  0.53518907 0.23409105 0.61047003]\n",
      "  [0.1816934  0.08035142 0.5727741  0.22497991]\n",
      "  [0.03478381 0.38731988 0.36972085 0.6777268 ]]\n",
      "\n",
      " [[0.09105677 0.46112459 0.96702023 0.23869212]\n",
      "  [0.57945049 0.92334889 0.29585892 0.60187019]\n",
      "  [0.21533049 0.12765094 0.01045382 0.25517896]]]\n"
     ]
    }
   ],
   "source": [
    "#Veamos la forma del tensor A\n",
    "print(A)"
   ]
  },
  {
   "cell_type": "code",
   "execution_count": 3,
   "metadata": {
    "colab": {
     "base_uri": "https://localhost:8080/",
     "height": 35
    },
    "colab_type": "code",
    "executionInfo": {
     "elapsed": 12979,
     "status": "ok",
     "timestamp": 1567008952671,
     "user": {
      "displayName": "Daniel Alejandro Perdomo Escobar",
      "photoUrl": "https://lh3.googleusercontent.com/a-/AAuE7mBoJL8Y6qnPWtPjMx_yRCMBTwvDBoEbC1LFNKgvEg=s64",
      "userId": "11856131628367370905"
     },
     "user_tz": 300
    },
    "id": "xxBcaSZfsy5u",
    "outputId": "4fdc8c7c-4b09-4fdb-829c-05766cc072c1"
   },
   "outputs": [
    {
     "name": "stdout",
     "output_type": "stream",
     "text": [
      "Tensor(\"Const:0\", shape=(2, 3, 4), dtype=float64)\n"
     ]
    }
   ],
   "source": [
    "# Así es como se accede al tensor subyacente.\n",
    "print(a.tensor)"
   ]
  },
  {
   "cell_type": "code",
   "execution_count": 4,
   "metadata": {
    "colab": {
     "base_uri": "https://localhost:8080/",
     "height": 146
    },
    "colab_type": "code",
    "executionInfo": {
     "elapsed": 750,
     "status": "ok",
     "timestamp": 1567008955671,
     "user": {
      "displayName": "Daniel Alejandro Perdomo Escobar",
      "photoUrl": "https://lh3.googleusercontent.com/a-/AAuE7mBoJL8Y6qnPWtPjMx_yRCMBTwvDBoEbC1LFNKgvEg=s64",
      "userId": "11856131628367370905"
     },
     "user_tz": 300
    },
    "id": "XM1rq-dhncX7",
    "outputId": "5d9bf3d0-37a1-4193-be1c-4762f5462c63"
   },
   "outputs": [
    {
     "name": "stdout",
     "output_type": "stream",
     "text": [
      "[[[0.6703595  0.53518907 0.23409105 0.61047003]\n",
      "  [0.1816934  0.08035142 0.5727741  0.22497991]\n",
      "  [0.03478381 0.38731988 0.36972085 0.6777268 ]]\n",
      "\n",
      " [[0.09105677 0.46112459 0.96702023 0.23869212]\n",
      "  [0.57945049 0.92334889 0.29585892 0.60187019]\n",
      "  [0.21533049 0.12765094 0.01045382 0.25517896]]]\n"
     ]
    }
   ],
   "source": [
    "#Ahora, como en tensorflow, para ejecutar el codigo se hace a partir de una sesión\n",
    "\n",
    "with tf.Session() as sess:\n",
    "  at = sess.run(a.tensor)\n",
    "\n",
    "print(at)"
   ]
  },
  {
   "cell_type": "markdown",
   "metadata": {
    "colab_type": "text",
    "id": "hZor6j2lmVZA"
   },
   "source": [
    "# Notacion Diagramatica\n",
    "\n",
    "*  Cada tensor será representado por un circulo conectado a lineas que corresponden a sus indices.\n",
    "\n",
    "* Cada linea estará etiquetada con una letra necesaria para relacionar la ecuacion con el diagram.\n",
    "\n",
    "![texto alternativo](https://static.wixstatic.com/media/d91e93_6a91aeea94304044a62cc32d064aaf61~mv2.png/v1/fill/w_660,h_340,al_c,q_90/d91e93_6a91aeea94304044a62cc32d064aaf61~mv2.webp)\n"
   ]
  },
  {
   "cell_type": "code",
   "execution_count": 5,
   "metadata": {
    "colab": {
     "base_uri": "https://localhost:8080/",
     "height": 126
    },
    "colab_type": "code",
    "executionInfo": {
     "elapsed": 9253,
     "status": "ok",
     "timestamp": 1566316297417,
     "user": {
      "displayName": "Daniel Alejandro Perdomo Escobar",
      "photoUrl": "https://lh5.googleusercontent.com/-CFp5ZWBO62Y/AAAAAAAAAAI/AAAAAAAAAw0/E7orvBiVe1Y/s64/photo.jpg",
      "userId": "11856131628367370905"
     },
     "user_tz": 300
    },
    "id": "2KUqEh1N4wr_",
    "outputId": "66f7784b-928c-41b0-fbc4-3cf4006afd53"
   },
   "outputs": [
    {
     "name": "stdout",
     "output_type": "stream",
     "text": [
      "Dimensiones de las lineas\n",
      "2\n",
      "3\n",
      "4\n",
      "Orden del tensor\n",
      "3\n"
     ]
    }
   ],
   "source": [
    "# En TensorNetwork las lineas libres son creadas automaticamente con la creacion del nodo.\n",
    "# podemos acceder a ellas de la siguiente manera.\n",
    "edgei = a.get_edge(0) # a[0]\n",
    "edgej = a.get_edge(1) # a[1]\n",
    "edgek = a.get_edge(2) # a[2]\n",
    "\n",
    "# Las dimensiones de cada linea son\n",
    "print('Dimensiones de las lineas')\n",
    "print(edgei.dimension)\n",
    "print(edgej.dimension)\n",
    "print(edgek.dimension)\n",
    "\n",
    "print('Orden del tensor')\n",
    "print(a.get_rank())"
   ]
  },
  {
   "cell_type": "markdown",
   "metadata": {
    "colab_type": "text",
    "id": "YdYf4FmCel0_"
   },
   "source": [
    "# Contraccion\n",
    "\n",
    "Un indice compartido por dos tensores indica una contraccion (o sumatoria) sobre éste indice.\n",
    "\n",
    "![texto alternativo](https://static.wixstatic.com/media/d91e93_4a2852f173884f0c96aa869aa6524ee7~mv2.png/v1/fill/w_954,h_325,al_c,q_90/d91e93_4a2852f173884f0c96aa869aa6524ee7~mv2.webp)"
   ]
  },
  {
   "cell_type": "markdown",
   "metadata": {
    "colab_type": "text",
    "id": "cuw9jpwCehKg"
   },
   "source": [
    "# Operaciones de permutar y remodelar (reshape)\n",
    "\n",
    "* ***Permutar:*** cambia el orden del índice de un tensor (pero no cambia el número de índices)\n",
    "\n",
    "* ***remodelar:*** combina una colección de índices en un índice más grande (o viceversa), puede cambiar el número de índices pero no la dimensión total.\n",
    "\n",
    "![texto alternativo](https://static.wixstatic.com/media/d91e93_6afe662a2ff44b3c8df018f0ac787b09~mv2.png/v1/fill/w_950,h_368,al_c,q_90/D18.webp)"
   ]
  },
  {
   "cell_type": "markdown",
   "metadata": {
    "colab_type": "text",
    "id": "CMbc8VRKlAzw"
   },
   "source": [
    "Nota:\n",
    "\n",
    "*    Hay que permutar los nodos para afirmar que los ejes de su resultado están en el orden correcto\n",
    "\n",
    "*    Contraer sin reordenar puede producir calculos intermedios, lo que se traduce en mas costo computacional\n",
    "\n",
    "* Permutar reordena el almacenamiento de los elementos de un tensor en la memoria de la computadora, por lo que incurre en un costo computacional (a menudo no despreciable). Por el contrario, la función de remodelación deja los elementos de un tensor sin cambios en la memoria, solo cambia los metadatos de cómo debe interpretarse el tensor (y por lo tanto incurre en un costo insignificante)."
   ]
  },
  {
   "cell_type": "code",
   "execution_count": 6,
   "metadata": {
    "colab": {
     "base_uri": "https://localhost:8080/",
     "height": 53
    },
    "colab_type": "code",
    "executionInfo": {
     "elapsed": 9221,
     "status": "ok",
     "timestamp": 1566316297418,
     "user": {
      "displayName": "Daniel Alejandro Perdomo Escobar",
      "photoUrl": "https://lh5.googleusercontent.com/-CFp5ZWBO62Y/AAAAAAAAAAI/AAAAAAAAAw0/E7orvBiVe1Y/s64/photo.jpg",
      "userId": "11856131628367370905"
     },
     "user_tz": 300
    },
    "id": "mL1qkfb6cQBd",
    "outputId": "f66349c0-70ac-460f-f6df-fa1e609642fe"
   },
   "outputs": [
    {
     "name": "stdout",
     "output_type": "stream",
     "text": [
      "(4, 1, 2, 3)\n",
      "(4, 16)\n"
     ]
    }
   ],
   "source": [
    "#Permutar y remodelar en numpy\n",
    "\n",
    "#Permutar el tensor A de orden 4 con dimensiones 1,2,3,4\n",
    "\n",
    "A = np.random.rand(1,2,3,4)\n",
    "\n",
    "Atilda = A.transpose(3,0,1,2)\n",
    "\n",
    "print(Atilda.shape) #Debe imprimir (4,1,2,3)\n",
    "\n",
    "#Remodelar el tensor B de orden 3 con dimensiones 4,4,4\n",
    "\n",
    "B = np.random.rand(4,4,4)\n",
    "\n",
    "Btilda = B.reshape(4,4*4)\n",
    "\n",
    "print(Btilda.shape) #Debe imprimir (4,16)"
   ]
  },
  {
   "cell_type": "code",
   "execution_count": 7,
   "metadata": {
    "colab": {
     "base_uri": "https://localhost:8080/",
     "height": 53
    },
    "colab_type": "code",
    "executionInfo": {
     "elapsed": 9193,
     "status": "ok",
     "timestamp": 1566316297422,
     "user": {
      "displayName": "Daniel Alejandro Perdomo Escobar",
      "photoUrl": "https://lh5.googleusercontent.com/-CFp5ZWBO62Y/AAAAAAAAAAI/AAAAAAAAAw0/E7orvBiVe1Y/s64/photo.jpg",
      "userId": "11856131628367370905"
     },
     "user_tz": 300
    },
    "id": "1EjmmW6mCyEK",
    "outputId": "a56ad92c-94b7-4344-cb01-481e7f12c8e2"
   },
   "outputs": [
    {
     "name": "stdout",
     "output_type": "stream",
     "text": [
      "(3, 1, 2)\n",
      "(6, 4)\n"
     ]
    }
   ],
   "source": [
    "#Permutar y remodelar en tensornetwork\n",
    "\n",
    "#Permutar el tensor D de orden 3 con dimensiones 1,2,3\n",
    "\n",
    "D = net.add_node(np.zeros((1, 2, 3)))\n",
    "d1 = D[0]\n",
    "d2 = D[1]\n",
    "d3 = D[2]\n",
    "D.reorder_edges([d3, d1, d2])\n",
    "\n",
    "print(D.tensor.shape) # Debe imprimir (3, 1, 2)\n",
    "\n",
    "#Remodelar el tensor E de orden 3 con dimensiones 2,3,4\n",
    "\n",
    "E = net.add_node(np.ones((2, 3, 4)))\n",
    "e1 = E[0]\n",
    "e2 = E[1]\n",
    "e3 = E[2]\n",
    "flattened_edge = net.flatten_edges([E[0], E[1]])\n",
    "\n",
    "E.reorder_edges([flattened_edge,e3])\n",
    "\n",
    "print(E.tensor.shape) #Debe imprimir (6,4)"
   ]
  },
  {
   "cell_type": "markdown",
   "metadata": {
    "colab_type": "text",
    "id": "p95OGJxbow6Y"
   },
   "source": [
    "# Contraccion de tensor binario\n",
    "\n",
    "Permutar y remodelar permiten que una contracción entre un par de tensores (que llamamos una contracción de tensor binario) se pueda escribir como una multiplicación matricial. \n",
    "\n",
    "![texto alternativo](https://static.wixstatic.com/media/d91e93_a62d3c7786494eada0bb5a2f3518d662~mv2.png/v1/fill/w_864,h_195,al_c,q_90/d91e93_a62d3c7786494eada0bb5a2f3518d662~mv2.webp)\n",
    "\n",
    "Metodologia:\n",
    "\n",
    "1.   Permutar los tensores A y B tal que los indices a contraer esten contiguos entre ambos tensores\n",
    "2.   Remodelar los tensores (agrupar entre indices a contraer e indices externos) a una matriz \n",
    "3.   Hacer la multiplicación de matrices\n",
    "4.   Remodele la matriz C en un tensor, realice la permutación final si el orden del índice deseado es diferente del orden actual\n",
    "\n",
    "![texto alternativo](https://static.wixstatic.com/media/d91e93_8c99c11e840e40e49bceaf9751df3158~mv2.png/v1/fill/w_555,h_490,al_c,q_90/d91e93_8c99c11e840e40e49bceaf9751df3158~mv2.webp)"
   ]
  },
  {
   "cell_type": "code",
   "execution_count": 8,
   "metadata": {
    "colab": {
     "base_uri": "https://localhost:8080/",
     "height": 162
    },
    "colab_type": "code",
    "executionInfo": {
     "elapsed": 9162,
     "status": "ok",
     "timestamp": 1566316297426,
     "user": {
      "displayName": "Daniel Alejandro Perdomo Escobar",
      "photoUrl": "https://lh5.googleusercontent.com/-CFp5ZWBO62Y/AAAAAAAAAAI/AAAAAAAAAw0/E7orvBiVe1Y/s64/photo.jpg",
      "userId": "11856131628367370905"
     },
     "user_tz": 300
    },
    "id": "xaIO_sxBgER_",
    "outputId": "8737cdcc-cf85-4db0-8b2d-b92cf13909ab"
   },
   "outputs": [
    {
     "name": "stdout",
     "output_type": "stream",
     "text": [
      "dimension A:  (1, 2, 3, 4)\n",
      "dimension B:  (2, 5, 6, 4)\n",
      "dimension Ap:  (1, 3, 2, 4)\n",
      "dimension Bp:  (2, 4, 5, 6)\n",
      "dimension App:  (3, 8)\n",
      "dimension Bpp:  (8, 30)\n",
      "dimension Cpp:  (3, 30)\n",
      "dimension C:  (1, 3, 5, 6)\n"
     ]
    }
   ],
   "source": [
    "##### Contraccion de tensor binario en numpy\n",
    "i = 1; m = 2; j = 3; n = 4; k = 5; l = 6\n",
    "\n",
    "#Cijkl = Aimjn*Bmkln\n",
    "\n",
    "A = np.random.rand(i,m,j,n)  #Aimjn\n",
    "B = np.random.rand(m,k,l,n)  #Bmkln\n",
    "\n",
    "print('dimension A: ',A.shape) \n",
    "print('dimension B: ',B.shape)\n",
    "\n",
    "#1) Permutar indices\n",
    "Ap  = A.transpose(0,2,1,3)  #Aijmn \n",
    "Bp = B.transpose(0,3,1,2)   #Bmnkl\n",
    "\n",
    "print('dimension Ap: ',Ap.shape)\n",
    "print('dimension Bp: ',Bp.shape)\n",
    "\n",
    "#2) Remodelar indices\n",
    "App = Ap.reshape(i*j,m*n)   #A{ij}{mn}\n",
    "Bpp = Bp.reshape(m*n,k*l)   #B{mn}{kl}\n",
    "\n",
    "print('dimension App: ',App.shape)\n",
    "print('dimension Bpp: ',Bpp.shape)\n",
    "\n",
    "#3) Multiplicacion matricial\n",
    "Cpp = np.matmul(App, Bpp)   #A{ij}{mn}B{mn}{kl}   \n",
    "\n",
    "print('dimension Cpp: ',Cpp.shape)\n",
    "\n",
    "#4) Reordenar tensor final\n",
    "C   = Cpp.reshape(i,j,k,l)  #Cijkl\n",
    "\n",
    "print('dimension C: ',C.shape)"
   ]
  },
  {
   "cell_type": "code",
   "execution_count": 9,
   "metadata": {},
   "outputs": [
    {
     "name": "stdout",
     "output_type": "stream",
     "text": [
      "dimension A:  (1, 2, 3, 4)\n",
      "dimension B:  (2, 5, 6, 4)\n",
      "dimension C:  (1, 3, 5, 6)\n"
     ]
    }
   ],
   "source": [
    "#### Contraccion de tensor binario en tensorflow\n",
    "\n",
    "i = 1; m = 2; j = 3; n = 4; k = 5; l = 6\n",
    "\n",
    "A = net.add_node(np.random.rand(i,m,j,n))  \n",
    "B = net.add_node(np.random.rand(m,k,l,n))\n",
    "\n",
    "print('dimension A: ',A.tensor.shape)\n",
    "print('dimension B: ',B.tensor.shape)\n",
    "\n",
    "#Permutar indices\n",
    "\n",
    "A.reorder_edges([A[0], A[2], A[1], A[3]]);  B.reorder_edges([B[0], B[3], B[1], B[2]])\n",
    "\n",
    "# Conectar y remodelar indices\n",
    "\n",
    "e1 = net.connect(A[2],B[0])\n",
    "e2 = net.connect(A[3],B[1])\n",
    "\n",
    "flattened_edge = net.flatten_edges([e1, e2])\n",
    "\n",
    "print(\"dimension C: \",net.contract(flattened_edge).tensor.shape)\n"
   ]
  },
  {
   "cell_type": "markdown",
   "metadata": {
    "colab_type": "text",
    "id": "_RlYrD2ccszA"
   },
   "source": [
    "# Costos de contraccion\n",
    "\n",
    "Formas de calcular el costo de la contraccion tensorial:\n",
    "\n",
    "![texto alternativo](https://static.wixstatic.com/media/d91e93_a03f6f99ee3f430ca094f6c7514870c3~mv2.png/v1/fill/w_948,h_201,al_c,q_90/D19.webp)\n",
    "\n",
    "Hay dos formas para contraer una red con mas de dos tensores:\n",
    "\n",
    "\n",
    "\n",
    "1.   En un solo paso como la suma directa de los indices internos de la red\n",
    "2.   Una secuencia de N-1 contracciones binarias. \n",
    "\n",
    "![texto alternativo](https://static.wixstatic.com/media/d91e93_27f38171fdb04152a27551492a6c6b7d~mv2.png/v1/fill/w_750,h_83,al_c,q_90/d91e93_27f38171fdb04152a27551492a6c6b7d~mv2.webp)\n",
    "\n",
    "![texto alternativo](https://static.wixstatic.com/media/d91e93_5ca5f98d307b404f8be574e105910826~mv2.png/v1/fill/w_750,h_250,al_c,q_90/d91e93_5ca5f98d307b404f8be574e105910826~mv2.webp)\n",
    "\n"
   ]
  },
  {
   "cell_type": "code",
   "execution_count": 10,
   "metadata": {
    "colab": {
     "base_uri": "https://localhost:8080/",
     "height": 53
    },
    "colab_type": "code",
    "executionInfo": {
     "elapsed": 9768,
     "status": "ok",
     "timestamp": 1566316298099,
     "user": {
      "displayName": "Daniel Alejandro Perdomo Escobar",
      "photoUrl": "https://lh5.googleusercontent.com/-CFp5ZWBO62Y/AAAAAAAAAAI/AAAAAAAAAw0/E7orvBiVe1Y/s64/photo.jpg",
      "userId": "11856131628367370905"
     },
     "user_tz": 300
    },
    "id": "8eakZnksuH12",
    "outputId": "d2a4a93f-50dc-4027-b5f7-2ec59c3f9747"
   },
   "outputs": [
    {
     "name": "stdout",
     "output_type": "stream",
     "text": [
      "0.38547468185424805\n",
      "0.0005705356597900391\n"
     ]
    }
   ],
   "source": [
    "##### Evaluar Red tensorial -A-B-C-\n",
    "\n",
    "import time\n",
    "start1 = time.time()\n",
    "\n",
    "d = 20\n",
    "A = np.random.rand(d,d) \n",
    "B = np.random.rand(d,d)\n",
    "C = np.random.rand(d,d)\n",
    "# Via sumatoria de indices internos\n",
    "F0 = np.zeros((d,d))\n",
    "for di in range(d):\n",
    "    for dj in range(d):\n",
    "        for dk in range(d):\n",
    "            for dl in range(d):\n",
    "                F0[di,dj] = F0[di,dj] + A[di,dk]*B[dk,dl]*C[dl,dj]\n",
    "                \n",
    "end1 = time.time()\n",
    "print(end1 - start1)\n",
    "            \n",
    "start2 = time.time()\n",
    "# Via secuencia de contracciones binarias\n",
    "F1 = (A @ B) @ C \n",
    "\n",
    "end2 = time.time()\n",
    "print(end2 - start2)"
   ]
  },
  {
   "cell_type": "markdown",
   "metadata": {
    "colab_type": "text",
    "id": "0rZxdik0mS7C"
   },
   "source": [
    "# Contraccion de redes tensoriales\n",
    "\n",
    "Formas de contraer una red tensorial eficientemente:\n",
    "\n",
    "1.   Determinar la secuencia optima (Minimizar tamaño de tensores involucrados en la contraccion o ) de N-1 contracciones binarias\n",
    "2.   Si la red es muy compleja puede usar algoritmos como el descrito en este articulo https://arxiv.org/abs/1304.6112\n",
    "\n",
    "<img src=\"https://static.wixstatic.com/media/d91e93_0aec134314bc4a86b3fd10913c120f2f~mv2.png/v1/fill/w_644,h_525,al_c,q_90/d91e93_0aec134314bc4a86b3fd10913c120f2f~mv2.webp\" width=\"400\">\n",
    "\n"
   ]
  },
  {
   "cell_type": "markdown",
   "metadata": {
    "colab_type": "text",
    "id": "B7oJ9JrF_zPh"
   },
   "source": [
    "# ncon (Network contractor)\n",
    "\n",
    "Disminuye el esfuerzo requerido para implementar una contracción. Esta función realiza automáticamente una secuencia deseada de permutaciones, remodelaciones y multiplicaciones de tensores necesarias para evaluar una red tensorial. El primer paso para usar 'ncon' para evaluar una red es hacer un diagrama etiquetado de la red de manera que:\n",
    "\n",
    "*   Cada índice interno está etiquetado con un entero positivo único (típicamente enteros secuenciales que comienzan desde 1).\n",
    "\n",
    "*   Los índices externos del diagrama (si hay alguno) están etiquetados con enteros negativos secuenciales [-1, -2, -3, ...] que denotan el orden de índice deseado en el tensor final (con -1 como primer índice, -2 como el segundo, etc.)\n",
    "\n",
    "<img src=\"https://static.wixstatic.com/media/d91e93_eb675db6d96a47ce91a8ddbf265b2605~mv2.png/v1/fill/w_259,h_270,al_c,q_90/d91e93_eb675db6d96a47ce91a8ddbf265b2605~mv2.webp\" width=\"150\">\n",
    "\n",
    "Después de esto, la rutina 'ncon' se llama de la siguiente manera,\n",
    "\n",
    "**OutputTensor = ncon(TensorArray, IndexArray, con_order)**"
   ]
  },
  {
   "cell_type": "code",
   "execution_count": 11,
   "metadata": {
    "colab": {},
    "colab_type": "code",
    "id": "6j6X6grk7W6G"
   },
   "outputs": [],
   "source": [
    "from tensornetwork import ncon\n",
    "sess = tf.InteractiveSession()"
   ]
  },
  {
   "cell_type": "code",
   "execution_count": 12,
   "metadata": {
    "colab": {
     "base_uri": "https://localhost:8080/",
     "height": 35
    },
    "colab_type": "code",
    "executionInfo": {
     "elapsed": 9741,
     "status": "ok",
     "timestamp": 1566316298105,
     "user": {
      "displayName": "Daniel Alejandro Perdomo Escobar",
      "photoUrl": "https://lh5.googleusercontent.com/-CFp5ZWBO62Y/AAAAAAAAAAI/AAAAAAAAAw0/E7orvBiVe1Y/s64/photo.jpg",
      "userId": "11856131628367370905"
     },
     "user_tz": 300
    },
    "id": "lDxXmvWiL1pA",
    "outputId": "09ea20b1-dba0-47e2-de0c-625976458a80"
   },
   "outputs": [
    {
     "name": "stdout",
     "output_type": "stream",
     "text": [
      "0.0\n"
     ]
    }
   ],
   "source": [
    "##### Contraccion usando ncon\n",
    "\n",
    "#Ejemplo sencillo linea tensores -A-B-\n",
    "\n",
    "a = tf.random_normal((2,2))\n",
    "b = tf.random_normal((2,2))\n",
    "c = ncon([a,b], [(-1,1),(1,-2)])\n",
    "print(tf.norm(tf.matmul(a,b) - c).eval()) # imprime cero"
   ]
  },
  {
   "cell_type": "code",
   "execution_count": 13,
   "metadata": {
    "colab": {
     "base_uri": "https://localhost:8080/",
     "height": 35
    },
    "colab_type": "code",
    "executionInfo": {
     "elapsed": 9718,
     "status": "ok",
     "timestamp": 1566316298107,
     "user": {
      "displayName": "Daniel Alejandro Perdomo Escobar",
      "photoUrl": "https://lh5.googleusercontent.com/-CFp5ZWBO62Y/AAAAAAAAAAI/AAAAAAAAAw0/E7orvBiVe1Y/s64/photo.jpg",
      "userId": "11856131628367370905"
     },
     "user_tz": 300
    },
    "id": "mrboOdriGc-n",
    "outputId": "57e96866-e2bc-4903-e3f3-638edf25ae2d"
   },
   "outputs": [
    {
     "name": "stdout",
     "output_type": "stream",
     "text": [
      "(10, 10)\n"
     ]
    }
   ],
   "source": [
    "#Ejemplo que se muestra en las figuras de arriba \n",
    "\n",
    "d = 10\n",
    "A = tf.random_normal((d,d,d)); B = tf.random_normal((d,d,d,d))\n",
    "C = tf.random_normal((d,d,d)); D = tf.random_normal((d,d))\n",
    "\n",
    "#Tensores involucrados en la red\n",
    "TensorArray = [A,B,C,D]\n",
    "\n",
    "#etiquetado de indices\n",
    "IndexArray = [[1,-2,2],[-1,1,3,4],[5,3,2],[4,5]]\n",
    "\n",
    "#Uso de funcion ncon\n",
    "E = ncon(TensorArray,IndexArray,con_order = [5,3,4,1,2])\n",
    "\n",
    "print(E.shape)"
   ]
  },
  {
   "cell_type": "code",
   "execution_count": null,
   "metadata": {
    "colab": {},
    "colab_type": "code",
    "id": "HPrFx9-g9Kog"
   },
   "outputs": [],
   "source": []
  }
 ],
 "metadata": {
  "colab": {
   "collapsed_sections": [],
   "name": "1. Contraccion de tensores.ipynb",
   "provenance": [],
   "version": "0.3.2"
  },
  "kernelspec": {
   "display_name": "Python 3",
   "language": "python",
   "name": "python3"
  },
  "language_info": {
   "codemirror_mode": {
    "name": "ipython",
    "version": 3
   },
   "file_extension": ".py",
   "mimetype": "text/x-python",
   "name": "python",
   "nbconvert_exporter": "python",
   "pygments_lexer": "ipython3",
   "version": "3.7.3"
  }
 },
 "nbformat": 4,
 "nbformat_minor": 1
}
